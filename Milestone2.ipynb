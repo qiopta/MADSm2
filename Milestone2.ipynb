{
  "nbformat": 4,
  "nbformat_minor": 0,
  "metadata": {
    "colab": {
      "name": "Milestone2",
      "provenance": [],
      "collapsed_sections": [
        "7NPOKFIPnRRE",
        "lhdUe-JtsXTf",
        "bvdK-54n_O7W",
        "bmaQAG_C_kIP",
        "_VqlquQRvWb3",
        "SQJwOb0arZ-F",
        "Ya6sKz-woGu8"
      ],
      "authorship_tag": "ABX9TyPrNPB6bUn/9vIavk8K9cpN",
      "include_colab_link": true
    },
    "kernelspec": {
      "name": "python3",
      "display_name": "Python 3"
    },
    "language_info": {
      "name": "python"
    }
  },
  "cells": [
    {
      "cell_type": "markdown",
      "metadata": {
        "id": "view-in-github",
        "colab_type": "text"
      },
      "source": [
        "<a href=\"https://colab.research.google.com/github/qiopta/MADSm2/blob/main/Milestone2.ipynb\" target=\"_parent\"><img src=\"https://colab.research.google.com/assets/colab-badge.svg\" alt=\"Open In Colab\"/></a>"
      ]
    },
    {
      "cell_type": "markdown",
      "metadata": {
        "id": "8LVUVMXpnF5C"
      },
      "source": [
        "# Section 1 - Getting the environment set, including colab based IDE"
      ]
    },
    {
      "cell_type": "code",
      "metadata": {
        "id": "OscokJSEmls6"
      },
      "source": [
        "#!pip install colabcode"
      ],
      "execution_count": null,
      "outputs": []
    },
    {
      "cell_type": "code",
      "metadata": {
        "id": "F_CQKMEHmvsb"
      },
      "source": [
        "#from colabcode import ColabCode #not needed as uVM for IDE based bert\n",
        "import pandas as pd\n",
        "import zipfile\n",
        "import numpy as np\n",
        "from collections import Counter\n",
        "#from lime.lime_text import LimeTextExplainer\n",
        "from sklearn.feature_extraction.text import TfidfVectorizer\n",
        "from sklearn.feature_extraction.text import ENGLISH_STOP_WORDS\n",
        "from sklearn.linear_model import LogisticRegression\n",
        "from sklearn.metrics import accuracy_score, f1_score\n",
        "from sklearn.pipeline import make_pipeline\n",
        "from sklearn.dummy import DummyClassifier\n",
        "from sklearn.ensemble import RandomForestClassifier\n",
        "from sklearn.model_selection import cross_val_score\n",
        "from sklearn.model_selection import train_test_split\n",
        "from sklearn.model_selection import LeaveOneOut\n",
        "from sklearn.model_selection import ShuffleSplit\n",
        "from sklearn.ensemble import GradientBoostingClassifier\n",
        "from sklearn.linear_model import LogisticRegression\n",
        "from sklearn.preprocessing import MinMaxScaler #doesnt work on sparse matrices\n",
        "from sklearn.preprocessing import MaxAbsScaler #therefore using this\n",
        "from sklearn.preprocessing import StandardScaler\n",
        "from sklearn.preprocessing import RobustScaler\n",
        "%matplotlib inline\n",
        "import matplotlib.pyplot as plt\n",
        "from sklearn.decomposition import PCA\n",
        "from sklearn.decomposition import TruncatedSVD\n",
        "from sklearn.cluster import KMeans\n",
        "from sklearn.metrics import davies_bouldin_score\n",
        "from sklearn.metrics import calinski_harabasz_score\n",
        "import re\n",
        "from sklearn.model_selection import GridSearchCV\n",
        "from sklearn.pipeline import Pipeline\n",
        "from sklearn import ensemble\n",
        "from sklearn import metrics\n",
        "from sklearn import model_selection\n",
        "\n",
        "RANDOM_SEED = 42"
      ],
      "execution_count": null,
      "outputs": []
    },
    {
      "cell_type": "code",
      "metadata": {
        "colab": {
          "resources": {
            "http://localhost:8080/nbextensions/google.colab/files.js": {
              "data": "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",
              "ok": true,
              "headers": [
                [
                  "content-type",
                  "application/javascript"
                ]
              ],
              "status": 200,
              "status_text": ""
            }
          },
          "base_uri": "https://localhost:8080/",
          "height": 91
        },
        "id": "ZPGElO0zm0-q",
        "outputId": "0590064f-8f36-4de8-82e8-62a29e5d65cd"
      },
      "source": [
        "# !pip install -q kaggle\n",
        "from google.colab import files\n",
        "files.upload()"
      ],
      "execution_count": null,
      "outputs": [
        {
          "output_type": "display_data",
          "data": {
            "text/html": [
              "\n",
              "     <input type=\"file\" id=\"files-3660ad28-6394-4ada-9fb5-fb16361cbd77\" name=\"files[]\" multiple disabled\n",
              "        style=\"border:none\" />\n",
              "     <output id=\"result-3660ad28-6394-4ada-9fb5-fb16361cbd77\">\n",
              "      Upload widget is only available when the cell has been executed in the\n",
              "      current browser session. Please rerun this cell to enable.\n",
              "      </output>\n",
              "      <script src=\"/nbextensions/google.colab/files.js\"></script> "
            ],
            "text/plain": [
              "<IPython.core.display.HTML object>"
            ]
          },
          "metadata": {}
        },
        {
          "output_type": "stream",
          "name": "stdout",
          "text": [
            "Saving kaggle.json to kaggle.json\n"
          ]
        },
        {
          "output_type": "execute_result",
          "data": {
            "text/plain": [
              "{'kaggle.json': b'{\"username\":\"qiopta\",\"key\":\"64b826e59c2b570f04f47f4020f2d923\"}'}"
            ]
          },
          "metadata": {},
          "execution_count": 2
        }
      ]
    },
    {
      "cell_type": "code",
      "metadata": {
        "id": "l-yYzzJTm6gJ"
      },
      "source": [
        "! mkdir ~/.kaggle\n",
        "! cp kaggle.json ~/.kaggle/\n",
        "! chmod 600 ~/.kaggle/kaggle.json"
      ],
      "execution_count": null,
      "outputs": []
    },
    {
      "cell_type": "code",
      "metadata": {
        "id": "-Xs03KiGm93C"
      },
      "source": [
        "#ColabCode(port=10000, password = 'Qiopta', mount_drive=True)"
      ],
      "execution_count": null,
      "outputs": []
    },
    {
      "cell_type": "markdown",
      "metadata": {
        "id": "7NPOKFIPnRRE"
      },
      "source": [
        "# Section 2 - Notes for the IDE environment"
      ]
    },
    {
      "cell_type": "markdown",
      "metadata": {
        "id": "g7VlCWuIoJj9"
      },
      "source": [
        "Download the UMICH data from Kaggle with:\n",
        "\n",
        "!kaggle competitions download -c umich-siads-695-predicting-text-difficulty"
      ]
    },
    {
      "cell_type": "markdown",
      "metadata": {
        "id": "5_yPeXzCpe4c"
      },
      "source": [
        "# Section 3 Local Colab analysis, upload datasets create train/test dfs"
      ]
    },
    {
      "cell_type": "code",
      "metadata": {
        "colab": {
          "base_uri": "https://localhost:8080/"
        },
        "id": "UlzOZzftnV0F",
        "outputId": "5d227f51-e9f3-4fb1-ba83-1bc66e303749"
      },
      "source": [
        "!kaggle competitions download -c umich-siads-695-predicting-text-difficulty"
      ],
      "execution_count": null,
      "outputs": [
        {
          "output_type": "stream",
          "name": "stdout",
          "text": [
            "Warning: Looks like you're using an outdated API Version, please consider updating (server 1.5.12 / client 1.5.4)\n",
            "Downloading sampleSubmission.csv.zip to /content\n",
            "  0% 0.00/278k [00:00<?, ?B/s]\n",
            "100% 278k/278k [00:00<00:00, 27.7MB/s]\n",
            "Downloading AoA_51715_words.csv.zip to /content\n",
            "  0% 0.00/834k [00:00<?, ?B/s]\n",
            "100% 834k/834k [00:00<00:00, 55.2MB/s]\n",
            "Downloading WikiLarge_Train.csv.zip to /content\n",
            " 44% 9.00M/20.3M [00:01<00:01, 7.68MB/s]\n",
            "100% 20.3M/20.3M [00:01<00:00, 13.2MB/s]\n",
            "Downloading additional_resource_file_readme.txt to /content\n",
            "  0% 0.00/2.83k [00:00<?, ?B/s]\n",
            "100% 2.83k/2.83k [00:00<00:00, 2.47MB/s]\n",
            "Downloading WikiLarge_Test.csv.zip to /content\n",
            "100% 4.73M/4.73M [00:00<00:00, 11.1MB/s]\n",
            "\n",
            "Downloading Concreteness_ratings_Brysbaert_et_al_BRM.txt.zip to /content\n",
            "  0% 0.00/410k [00:00<?, ?B/s]\n",
            "100% 410k/410k [00:00<00:00, 57.1MB/s]\n",
            "Downloading dale_chall.txt to /content\n",
            "  0% 0.00/18.3k [00:00<?, ?B/s]\n",
            "100% 18.3k/18.3k [00:00<00:00, 19.7MB/s]\n"
          ]
        }
      ]
    },
    {
      "cell_type": "code",
      "metadata": {
        "colab": {
          "base_uri": "https://localhost:8080/"
        },
        "id": "CS8UkwFJpP_0",
        "outputId": "f63e5305-15b7-4644-f6c7-1e03ab2751e8"
      },
      "source": [
        "!ls"
      ],
      "execution_count": null,
      "outputs": [
        {
          "output_type": "stream",
          "name": "stdout",
          "text": [
            "additional_resource_file_readme.txt\t\t  sample_data\n",
            "AoA_51715_words.csv.zip\t\t\t\t  sampleSubmission.csv.zip\n",
            "Concreteness_ratings_Brysbaert_et_al_BRM.txt.zip  WikiLarge_Test.csv.zip\n",
            "dale_chall.txt\t\t\t\t\t  WikiLarge_Train.csv.zip\n",
            "kaggle.json\n"
          ]
        }
      ]
    },
    {
      "cell_type": "code",
      "metadata": {
        "id": "hYi-mVaopUQS"
      },
      "source": [
        "zf = zipfile.ZipFile('/content/WikiLarge_Train.csv.zip') \n",
        "train_df = pd.read_csv(zf.open('WikiLarge_Train.csv'))"
      ],
      "execution_count": null,
      "outputs": []
    },
    {
      "cell_type": "code",
      "metadata": {
        "id": "WVaRQFpkqrhU"
      },
      "source": [
        "zf = zipfile.ZipFile('/content/WikiLarge_Test.csv.zip') \n",
        "test_df = pd.read_csv(zf.open('WikiLarge_Test.csv'))"
      ],
      "execution_count": null,
      "outputs": []
    },
    {
      "cell_type": "code",
      "metadata": {
        "id": "ItbEzK60XM-A"
      },
      "source": [
        "tenK_train = train_df.sample(10000)\n",
        "onehK_train = train_df.sample(100000)\n",
        "twohK_train = train_df.sample(200000)"
      ],
      "execution_count": null,
      "outputs": []
    },
    {
      "cell_type": "markdown",
      "metadata": {
        "id": "L5i4nb6e9KUq"
      },
      "source": [
        "## Vectorize the the training data, note tenK sample size baseline, labels will need to match when training classifiers"
      ]
    },
    {
      "cell_type": "code",
      "metadata": {
        "colab": {
          "base_uri": "https://localhost:8080/"
        },
        "id": "ERzIFT8kAs03",
        "outputId": "a7b6733d-d3b2-41dd-ad97-343b633ff703"
      },
      "source": [
        "%%time\n",
        "#This needs vectorizing to work\n",
        "vectorizer = TfidfVectorizer(min_df = 100, stop_words ='english', ngram_range = (1, 2)) #experiment unigrams (most defaults in this set were tested with min-df =100 and ngrams (1,2), best looks to be 25 (1,2))\n",
        "X_train    = vectorizer.fit_transform(tenK_train['original_text'])\n",
        "vec_test   = vectorizer.transform(test_df['original_text']) \n",
        "# takes 30 secs on CPU runtime for full data, 767ms for 10K, 50K took 2.5 s, trying 100K took 5.5 secs, 200K takes 10 secs. With 2 bigrams (now with test set inc takes c.5secs for 10K)\n",
        "# Get shuffle split params set up\n",
        "shuff_spt = ShuffleSplit(test_size=0.5, train_size=0.5, n_splits=10)"
      ],
      "execution_count": null,
      "outputs": [
        {
          "output_type": "stream",
          "name": "stdout",
          "text": [
            "CPU times: user 4.07 s, sys: 34.7 ms, total: 4.1 s\n",
            "Wall time: 4.14 s\n"
          ]
        }
      ]
    },
    {
      "cell_type": "markdown",
      "metadata": {
        "id": "lhdUe-JtsXTf"
      },
      "source": [
        "#Section 4 Dummy classifier, baseline classifiers with minimal pre-processing AND GBT classifier in this section"
      ]
    },
    {
      "cell_type": "code",
      "metadata": {
        "id": "KG5XeGB7upWP"
      },
      "source": [
        "# split train into dev set(s)\n",
        "# for dummy baseline clf using CV=5 cross validation score "
      ],
      "execution_count": null,
      "outputs": []
    },
    {
      "cell_type": "code",
      "metadata": {
        "id": "LfN_DfqprKts"
      },
      "source": [
        "mostf_clf = DummyClassifier(strategy=\"most_frequent\", random_state=RANDOM_SEED)"
      ],
      "execution_count": null,
      "outputs": []
    },
    {
      "cell_type": "code",
      "metadata": {
        "id": "6eKc1DlcwWPs"
      },
      "source": [
        "scores = cross_val_score(mostf_clf, train_df.original_text, train_df.label, cv=5)"
      ],
      "execution_count": null,
      "outputs": []
    },
    {
      "cell_type": "code",
      "metadata": {
        "colab": {
          "base_uri": "https://localhost:8080/"
        },
        "id": "yhsodh_zw80U",
        "outputId": "1bbfc156-fc28-459c-bc5f-7749df8ad3a5"
      },
      "source": [
        "scores.mean()"
      ],
      "execution_count": null,
      "outputs": [
        {
          "output_type": "execute_result",
          "data": {
            "text/plain": [
              "0.49999760056626635"
            ]
          },
          "metadata": {},
          "execution_count": 16
        }
      ]
    },
    {
      "cell_type": "code",
      "metadata": {
        "colab": {
          "base_uri": "https://localhost:8080/"
        },
        "id": "x-dYdKqUumnD",
        "outputId": "72f1b3f9-4439-49c9-9986-5ed20957b6b4"
      },
      "source": [
        "#comparison with stratified, shuffle and loo cv\n",
        "loo = LeaveOneOut() #too time consuming for large dataset, better for smaller\n",
        "shuff_spt = ShuffleSplit(test_size=0.5, train_size=0.5, n_splits=10)\n",
        "scores = cross_val_score(mostf_clf, train_df.original_text, train_df.label, cv=shuff_spt)\n",
        "scores #showing remarkable consistency, its balanced."
      ],
      "execution_count": null,
      "outputs": [
        {
          "output_type": "execute_result",
          "data": {
            "text/plain": [
              "array([0.49977445, 0.49972647, 0.49914581, 0.49899704, 0.49870432,\n",
              "       0.49979365, 0.4995729 , 0.49976966, 0.49976486, 0.49848837])"
            ]
          },
          "metadata": {},
          "execution_count": 17
        }
      ]
    },
    {
      "cell_type": "code",
      "metadata": {
        "colab": {
          "base_uri": "https://localhost:8080/"
        },
        "id": "ZusmfJ2vw_Ih",
        "outputId": "138529d1-e205-4ddb-e89e-2bf68c034f4a"
      },
      "source": [
        "mostf_clf.fit(train_df.original_text, train_df.label)"
      ],
      "execution_count": null,
      "outputs": [
        {
          "output_type": "execute_result",
          "data": {
            "text/plain": [
              "DummyClassifier(constant=None, random_state=42, strategy='most_frequent')"
            ]
          },
          "metadata": {},
          "execution_count": 18
        }
      ]
    },
    {
      "cell_type": "code",
      "metadata": {
        "id": "KrATRZQJ4UdR"
      },
      "source": [
        "dclf_preds = mostf_clf.predict(test_df)"
      ],
      "execution_count": null,
      "outputs": []
    },
    {
      "cell_type": "code",
      "metadata": {
        "colab": {
          "base_uri": "https://localhost:8080/"
        },
        "id": "N1WpTC4942fr",
        "outputId": "c73c5989-7658-4f84-ba5d-aa89d7f0d277"
      },
      "source": [
        "len(dclf_preds)"
      ],
      "execution_count": null,
      "outputs": [
        {
          "output_type": "execute_result",
          "data": {
            "text/plain": [
              "119092"
            ]
          },
          "metadata": {},
          "execution_count": 20
        }
      ]
    },
    {
      "cell_type": "code",
      "metadata": {
        "colab": {
          "base_uri": "https://localhost:8080/"
        },
        "id": "KTdkIJ3b456b",
        "outputId": "0ba39973-3df3-45cd-ee35-0b77654425e5"
      },
      "source": [
        "test_df.shape"
      ],
      "execution_count": null,
      "outputs": [
        {
          "output_type": "execute_result",
          "data": {
            "text/plain": [
              "(119092, 3)"
            ]
          },
          "metadata": {},
          "execution_count": 21
        }
      ]
    },
    {
      "cell_type": "code",
      "metadata": {
        "colab": {
          "base_uri": "https://localhost:8080/"
        },
        "id": "8tI6ZLbC48_K",
        "outputId": "82884da1-287b-4de9-d015-09c7459357bd"
      },
      "source": [
        "dclf_preds[:50]"
      ],
      "execution_count": null,
      "outputs": [
        {
          "output_type": "execute_result",
          "data": {
            "text/plain": [
              "array([0, 0, 0, 0, 0, 0, 0, 0, 0, 0, 0, 0, 0, 0, 0, 0, 0, 0, 0, 0, 0, 0,\n",
              "       0, 0, 0, 0, 0, 0, 0, 0, 0, 0, 0, 0, 0, 0, 0, 0, 0, 0, 0, 0, 0, 0,\n",
              "       0, 0, 0, 0, 0, 0])"
            ]
          },
          "metadata": {},
          "execution_count": 22
        }
      ]
    },
    {
      "cell_type": "code",
      "metadata": {
        "id": "sa_IKMZM5CAK"
      },
      "source": [
        "# Add id's to preds, write to CSV\n",
        "dclf_pred_df = pd.DataFrame(data=dclf_preds).reset_index()\n",
        "dclf_pred_df.columns = ['id', 'label']\n",
        "dclf_pred_df.to_csv('dclf_preds.csv', index=False)"
      ],
      "execution_count": null,
      "outputs": []
    },
    {
      "cell_type": "code",
      "metadata": {
        "id": "kG4Uj2jJ5vq4"
      },
      "source": [
        "#files.download('dclf_preds.csv') #this worked and was accepted by Kaggle as a submission"
      ],
      "execution_count": null,
      "outputs": []
    },
    {
      "cell_type": "code",
      "metadata": {
        "id": "W3b1rWY87giT"
      },
      "source": [
        "#testing submission via API, this worked :-)\n",
        "#!kaggle competitions submit umich-siads-695-predicting-text-difficulty -f dclf_preds.csv -m \"Testing submission via Colab API, copy of dummy CLF result\""
      ],
      "execution_count": null,
      "outputs": []
    },
    {
      "cell_type": "markdown",
      "metadata": {
        "id": "bvdK-54n_O7W"
      },
      "source": [
        "## Gradient boost decision tree"
      ]
    },
    {
      "cell_type": "code",
      "metadata": {
        "id": "-_YUao729TuS"
      },
      "source": [
        "GBDT_clf = GradientBoostingClassifier(n_estimators=100, learning_rate=.1, max_depth=3, random_state=RANDOM_SEED)"
      ],
      "execution_count": null,
      "outputs": []
    },
    {
      "cell_type": "markdown",
      "metadata": {
        "id": "s1EHa3YFXNcf"
      },
      "source": [
        "Starting with only 10000 rows for baseline model, will need to shuffle the data to ensure I get balanced labels"
      ]
    },
    {
      "cell_type": "code",
      "metadata": {
        "id": "Zrphyya0GCWE"
      },
      "source": [
        "#Option fit and set sample weights to sub-set"
      ],
      "execution_count": null,
      "outputs": []
    },
    {
      "cell_type": "code",
      "metadata": {
        "colab": {
          "base_uri": "https://localhost:8080/"
        },
        "id": "L1efVuxLAaoq",
        "outputId": "f146be73-c30c-46b2-f689-4f409c3ca5f1"
      },
      "source": [
        "%%time\n",
        "scores = cross_val_score(GBDT_clf, X_train, tenK_train.label, cv=shuff_spt) # a slice of 10000 takes 3.9 secs, 100K takes 95 secs.\n",
        "scores"
      ],
      "execution_count": null,
      "outputs": [
        {
          "output_type": "stream",
          "text": [
            "CPU times: user 3.67 s, sys: 9.69 ms, total: 3.68 s\n",
            "Wall time: 3.68 s\n"
          ],
          "name": "stdout"
        }
      ]
    },
    {
      "cell_type": "code",
      "metadata": {
        "id": "LAtY6zMnANlp",
        "colab": {
          "base_uri": "https://localhost:8080/"
        },
        "outputId": "974c0b5a-ad93-40cc-cc21-42e418263c49"
      },
      "source": [
        "scores.mean() #suggests c.58% accuracy, will try to run on test set and make a submission, 58% on 10K, 60% on 100K could try CATboost to utilise GPU training. "
      ],
      "execution_count": null,
      "outputs": [
        {
          "output_type": "execute_result",
          "data": {
            "text/plain": [
              "0.5688799999999998"
            ]
          },
          "metadata": {},
          "execution_count": 30
        }
      ]
    },
    {
      "cell_type": "code",
      "metadata": {
        "id": "tWCVVRXdcwlX",
        "colab": {
          "base_uri": "https://localhost:8080/"
        },
        "outputId": "1849f2ec-9fa1-442d-9a42-2ec6da9b36c9"
      },
      "source": [
        "vec_test"
      ],
      "execution_count": null,
      "outputs": [
        {
          "output_type": "execute_result",
          "data": {
            "text/plain": [
              "<119092x81 sparse matrix of type '<class 'numpy.float64'>'\n",
              "\twith 201976 stored elements in Compressed Sparse Row format>"
            ]
          },
          "metadata": {},
          "execution_count": 31
        }
      ]
    },
    {
      "cell_type": "code",
      "metadata": {
        "id": "npSBU7uAbH1a",
        "colab": {
          "base_uri": "https://localhost:8080/"
        },
        "outputId": "1a336b6d-43c7-4bf7-bc05-b322cd83697e"
      },
      "source": [
        "%%time\n",
        "GBDT_clf.fit(X_train, tenK_train.label) #took 20 secs for 100K\n"
      ],
      "execution_count": null,
      "outputs": [
        {
          "output_type": "stream",
          "text": [
            "CPU times: user 693 ms, sys: 1.99 ms, total: 695 ms\n",
            "Wall time: 701 ms\n"
          ],
          "name": "stdout"
        },
        {
          "output_type": "execute_result",
          "data": {
            "text/plain": [
              "GradientBoostingClassifier(ccp_alpha=0.0, criterion='friedman_mse', init=None,\n",
              "                           learning_rate=0.1, loss='deviance', max_depth=3,\n",
              "                           max_features=None, max_leaf_nodes=None,\n",
              "                           min_impurity_decrease=0.0, min_impurity_split=None,\n",
              "                           min_samples_leaf=1, min_samples_split=2,\n",
              "                           min_weight_fraction_leaf=0.0, n_estimators=100,\n",
              "                           n_iter_no_change=None, presort='deprecated',\n",
              "                           random_state=42, subsample=1.0, tol=0.0001,\n",
              "                           validation_fraction=0.1, verbose=0,\n",
              "                           warm_start=False)"
            ]
          },
          "metadata": {},
          "execution_count": 35
        }
      ]
    },
    {
      "cell_type": "code",
      "metadata": {
        "id": "dyszDW4Kbn6l",
        "colab": {
          "base_uri": "https://localhost:8080/"
        },
        "outputId": "f2091772-ccec-44a1-8993-a5221f5910c3"
      },
      "source": [
        "%%time\n",
        "gb_preds = GBDT_clf.predict(vec_test)"
      ],
      "execution_count": null,
      "outputs": [
        {
          "output_type": "stream",
          "text": [
            "CPU times: user 165 ms, sys: 955 µs, total: 166 ms\n",
            "Wall time: 169 ms\n"
          ],
          "name": "stdout"
        }
      ]
    },
    {
      "cell_type": "code",
      "metadata": {
        "id": "LNX_LdC4buP0"
      },
      "source": [
        "# # Add id's to preds, write to CSV\n",
        "gb_clf_pred_df = pd.DataFrame(data = gb_preds).reset_index()\n",
        "gb_clf_pred_df.columns = ['id', 'label']\n",
        "gb_clf_pred_df.to_csv('gb_preds.csv', index=False)"
      ],
      "execution_count": null,
      "outputs": []
    },
    {
      "cell_type": "code",
      "metadata": {
        "id": "VM_JkUBbd2at"
      },
      "source": [
        "#!kaggle competitions submit umich-siads-695-predicting-text-difficulty -f gb_preds.csv -m \"10K GBDT trained submit via Colab API, local CV gives 57%\""
      ],
      "execution_count": null,
      "outputs": []
    },
    {
      "cell_type": "markdown",
      "metadata": {
        "id": "udwOYt-mAVuv"
      },
      "source": [
        "# Section 5 Logistic regresson classifier"
      ]
    },
    {
      "cell_type": "code",
      "metadata": {
        "id": "dTHb2OgNeQWs"
      },
      "source": [
        "lr_clf = LogisticRegression(solver='lbfgs', random_state=42, max_iter=1000) #baseline hyparameters, could be worth running grid search for L2 etc. Do this on the 10K version, rather than the 100K :-)"
      ],
      "execution_count": null,
      "outputs": []
    },
    {
      "cell_type": "code",
      "metadata": {
        "colab": {
          "base_uri": "https://localhost:8080/"
        },
        "id": "paEQw2pEBYtY",
        "outputId": "91a83738-a769-4e16-c4e6-c06e9679c9e9"
      },
      "source": [
        "scores = cross_val_score(lr_clf, X_train, tenK_train.label, cv=shuff_spt) # 3.9 secs for 10K, very similar result, 7 secs for 100K with max iter 100 - 64%, trying max iter 1000 with 100K - still 64% but converged quickly\n",
        "scores.mean() #66.17% on 200hk, using 10K for expermiments - baseline here is 55.798 but sometimes as high as 57.68% and LR is about as good as GBDT and faster (uni/bigrams best;  bi and trigrams worse) (min df 50 looks better by c.1%, 25 is 2% better)"
      ],
      "execution_count": null,
      "outputs": [
        {
          "output_type": "execute_result",
          "data": {
            "text/plain": [
              "0.5686599999999999"
            ]
          },
          "metadata": {},
          "execution_count": 10
        }
      ]
    },
    {
      "cell_type": "code",
      "metadata": {
        "colab": {
          "base_uri": "https://localhost:8080/"
        },
        "id": "QioJ3knrRKlA",
        "outputId": "69126368-857a-4b0c-d517-d7681f161466"
      },
      "source": [
        "X_train.shape"
      ],
      "execution_count": null,
      "outputs": [
        {
          "output_type": "execute_result",
          "data": {
            "text/plain": [
              "(10000, 87)"
            ]
          },
          "metadata": {},
          "execution_count": 66
        }
      ]
    },
    {
      "cell_type": "code",
      "metadata": {
        "colab": {
          "base_uri": "https://localhost:8080/"
        },
        "id": "-UPwr62Cla2G",
        "outputId": "7f2b1ac4-2f5a-47af-9440-064aa4bca35d"
      },
      "source": [
        "#Function to remove brackets terms and re fit vec/clf run CV\n",
        "cleaned_tenK_train = tenK_train.replace(to_replace ='-LRB-|-RRB-', value = '', regex = True)\n",
        "X_train    = vectorizer.fit_transform(cleaned_tenK_train['original_text'])\n",
        "scores = cross_val_score(lr_clf, X_train, cleaned_tenK_train.label, cv=shuff_spt) \n",
        "scores.mean()"
      ],
      "execution_count": null,
      "outputs": [
        {
          "output_type": "execute_result",
          "data": {
            "text/plain": [
              "0.55026"
            ]
          },
          "metadata": {},
          "execution_count": 68
        }
      ]
    },
    {
      "cell_type": "markdown",
      "metadata": {
        "id": "zBYST37pmukb"
      },
      "source": [
        "So removing brackets might help 'interpret' clusters/topics but actually weakens the classifier."
      ]
    },
    {
      "cell_type": "code",
      "metadata": {
        "id": "nTh2ql7dlpFy"
      },
      "source": [
        "#re-run vectorizer and scoring steps to check impact of pre-processing\n"
      ],
      "execution_count": null,
      "outputs": []
    },
    {
      "cell_type": "code",
      "metadata": {
        "colab": {
          "base_uri": "https://localhost:8080/"
        },
        "id": "726AlXZBRTv5",
        "outputId": "5da1ca51-deda-4db4-b91b-54da9ac70c66"
      },
      "source": [
        "tenK_train.label.shape #an issue at 2000K training where X only has 1928 features and expects 3831 as above..."
      ],
      "execution_count": null,
      "outputs": [
        {
          "output_type": "execute_result",
          "data": {
            "text/plain": [
              "(10000,)"
            ]
          },
          "metadata": {},
          "execution_count": 37
        }
      ]
    },
    {
      "cell_type": "code",
      "metadata": {
        "id": "pqKptf5fBuQL",
        "colab": {
          "base_uri": "https://localhost:8080/"
        },
        "outputId": "9fbd5b5b-1064-4d19-ae12-784a12504b26"
      },
      "source": [
        "%%time\n",
        "lr_clf.fit(X_train, tenK_train.label)\n",
        "lr_preds = lr_clf.predict(vec_test)\n",
        "lr_clf_pred_df = pd.DataFrame(data = lr_preds).reset_index()\n",
        "lr_clf_pred_df.columns = ['id', 'label']\n",
        "lr_clf_pred_df.to_csv('lr_preds.csv', index=False)\n"
      ],
      "execution_count": null,
      "outputs": [
        {
          "output_type": "stream",
          "text": [
            "CPU times: user 226 ms, sys: 4.95 ms, total: 231 ms\n",
            "Wall time: 235 ms\n"
          ],
          "name": "stdout"
        }
      ]
    },
    {
      "cell_type": "code",
      "metadata": {
        "id": "3vM-QiOHC3w6"
      },
      "source": [
        "#!kaggle competitions submit umich-siads-695-predicting-text-difficulty -f lr_preds.csv -m \"100K LR trained submit via Colab API, local CV gives 64% expected to be better than vanilla GBDT result, and did not converge so could increase max iterations from default next\""
      ],
      "execution_count": null,
      "outputs": []
    },
    {
      "cell_type": "markdown",
      "metadata": {
        "id": "bmaQAG_C_kIP"
      },
      "source": [
        "# Section 6 Initial scaling and unsupervised learning experiments\n",
        "Based on LR clf using 10K vectorized examples.\n",
        "\n",
        "\n",
        "* Scaling - MaxAbs, Standard, and Robust produce very little effect on the TFIDF vectorizes sparse matrix\n",
        "* PCA\n",
        "* Alternative vectorization\n",
        "* Clustering\n",
        "\n",
        "\n"
      ]
    },
    {
      "cell_type": "code",
      "metadata": {
        "id": "DHxfk6zRDJSu",
        "colab": {
          "base_uri": "https://localhost:8080/"
        },
        "outputId": "b602983b-eee7-40b8-e0a3-063ebdf8e53c"
      },
      "source": [
        "lr_clf = LogisticRegression(solver='lbfgs', random_state = RANDOM_SEED, max_iter=1000)  #baseline hyparameters, could be worth running grid search for L2 etc. Do this on the 10K version)\n",
        "\n",
        "scalers = [MaxAbsScaler(), StandardScaler(with_mean=False), RobustScaler(with_centering=False)]\n",
        "for scaler in scalers:\n",
        "  print ('For %scaler.' %scaler)\n",
        "  scaler.fit(X_train)\n",
        "  X_train_scaled = scaler.transform(X_train)\n",
        "  scores = cross_val_score(lr_clf, X_train_scaled, tenK_train.label, cv=shuff_spt) # \n",
        "  print (\"Mean CV Score:                       \", scores.mean()) #Essentially no difference to unscaled\n",
        "print ('The baseline unscaled LR CLF produced 0.55798')"
      ],
      "execution_count": null,
      "outputs": [
        {
          "output_type": "stream",
          "name": "stdout",
          "text": [
            "For MaxAbsScaler(copy=True)caler.\n",
            "Mean CV Score:                        0.56474\n",
            "For StandardScaler(copy=True, with_mean=False, with_std=True)caler.\n",
            "Mean CV Score:                        0.56206\n",
            "For RobustScaler(copy=True, quantile_range=(25.0, 75.0), with_centering=False,\n",
            "             with_scaling=True)caler.\n",
            "Mean CV Score:                        0.5611599999999999\n",
            "The baseline unscaled LR CLF produced 0.55798\n"
          ]
        }
      ]
    },
    {
      "cell_type": "markdown",
      "metadata": {
        "id": "_VqlquQRvWb3"
      },
      "source": [
        "## Understanding PCA\n",
        "X_train.shape # shows we have created 81 features by TFDIF Vectorizing (10,000, 81) the 'Original text' in the training data when sampling 10,000 rows.\n",
        "\n",
        "From SKlearn: In particular, truncated SVD works on term count/tf-idf matrices as returned by the vectorizers in sklearn.feature_extraction.text. In that context, it is known as latent semantic analysis (LSA)\n"
      ]
    },
    {
      "cell_type": "code",
      "metadata": {
        "id": "XzNAxKv2HTBd",
        "colab": {
          "base_uri": "https://localhost:8080/"
        },
        "outputId": "84c1f0d0-ed63-4098-9a2c-9a9b98185b6e"
      },
      "source": [
        "# # Do MaxAbsScaler first, as has best impact on accuracy\n",
        "scaler = MaxAbsScaler()\n",
        "X_scaled = scaler.fit_transform(X_train) #not required for Truncated SVD\n",
        "# Do fit/transform NOTE PCA does not support sparse input. See TruncatedSVD for a possible alternative.\n",
        "tsvd = TruncatedSVD(n_components=8, random_state= RANDOM_SEED) # going with 10% of the features created by a 10K sample vectorized \n",
        "X_tsvd = tsvd.fit_transform(X_scaled) # toggle X_train &  X_scaled in experiments\n",
        "#compare\n",
        "print (X_tsvd.shape)"
      ],
      "execution_count": null,
      "outputs": [
        {
          "output_type": "stream",
          "name": "stdout",
          "text": [
            "(10000, 8)\n"
          ]
        }
      ]
    },
    {
      "cell_type": "code",
      "metadata": {
        "colab": {
          "base_uri": "https://localhost:8080/"
        },
        "id": "HL5Z9nmCXh5u",
        "outputId": "53a1d585-d674-4ff7-e379-3a4dcdec104f"
      },
      "source": [
        "X_tsvd[0]"
      ],
      "execution_count": null,
      "outputs": [
        {
          "output_type": "execute_result",
          "data": {
            "text/plain": [
              "array([ 3.73126677e-02,  1.62641512e-02,  4.11473296e-04,  8.91435487e-02,\n",
              "        1.71415235e-01,  4.41418705e-01, -1.19893416e-01, -5.96791277e-02])"
            ]
          },
          "metadata": {},
          "execution_count": 24
        }
      ]
    },
    {
      "cell_type": "code",
      "metadata": {
        "colab": {
          "base_uri": "https://localhost:8080/"
        },
        "id": "CqyE5ABGZTGs",
        "outputId": "74f6c52a-ce05-42e6-d73c-81b83bd8c92f"
      },
      "source": [
        "X_train[0] #shows 76 Features here, so sample is not commonly seeded (ie today's 10K rows arent yesterdays 10K rows)"
      ],
      "execution_count": null,
      "outputs": [
        {
          "output_type": "execute_result",
          "data": {
            "text/plain": [
              "<1x84 sparse matrix of type '<class 'numpy.float64'>'\n",
              "\twith 3 stored elements in Compressed Sparse Row format>"
            ]
          },
          "metadata": {},
          "execution_count": 25
        }
      ]
    },
    {
      "cell_type": "code",
      "metadata": {
        "colab": {
          "base_uri": "https://localhost:8080/"
        },
        "id": "r9QjQxmPZW4r",
        "outputId": "fb79c08e-b60a-437d-ae2b-7cdaaa46b263"
      },
      "source": [
        "lr_clf = LogisticRegression(solver='lbfgs', random_state = RANDOM_SEED, max_iter=1000)  #baseline hyparameters, could be worth running grid search for L2 etc. Do this on the 10K version)\n",
        "scores = cross_val_score(lr_clf, X_tsvd, tenK_train.label, cv=shuff_spt) # \n",
        "print (\"Mean CV Score for T-SVD model:       \", scores.mean()) #obvs\n",
        "print ('The baseline unscaled LR CLF produced 0.55798')"
      ],
      "execution_count": null,
      "outputs": [
        {
          "output_type": "stream",
          "name": "stdout",
          "text": [
            "Mean CV Score for T-SVD model:        0.54208\n",
            "The baseline unscaled LR CLF produced 0.55798\n"
          ]
        }
      ]
    },
    {
      "cell_type": "markdown",
      "metadata": {
        "id": "SQJwOb0arZ-F"
      },
      "source": [
        "## Using K means to find clusters\n",
        "Based on 543 Assignment two.  Measure of cluster quality to find optimal K in range from 2-9.  Then run the K clusters, and discover the mean centroid (typical sentence) for each cluster.\n"
      ]
    },
    {
      "cell_type": "code",
      "metadata": {
        "id": "LnT-eodJaOyx",
        "colab": {
          "base_uri": "https://localhost:8080/"
        },
        "outputId": "4a2226ab-77c5-45ef-c4f9-21f42b63be28"
      },
      "source": [
        "%%time\n",
        "#find optimal K, in k means clustering\n",
        "for k in range(2,10):\n",
        "    print ('_'*25, k)\n",
        "    kmeans = KMeans(n_clusters = k, init='k-means++', max_iter=100, n_init=1, random_state=RANDOM_SEED)\n",
        "    kmeans.fit(X_train)\n",
        "    #print ('Shape of reshaped labels:', kmeans.labels_.reshape(-1,1).shape)\n",
        "    #print ('Shape of reshaped labels after .ravel():', kmeans.labels_.reshape(-1,1).ravel().shape)\n",
        "    print ('Davies Boulding   (should be low)  ', davies_bouldin_score(X_train.toarray(), kmeans.labels_.reshape(-1,1).ravel()))\n",
        "    print ('Calinski Harabasz (should be high)', calinski_harabasz_score(X_train.toarray(), kmeans.labels_.reshape(-1,1).ravel()) )"
      ],
      "execution_count": null,
      "outputs": [
        {
          "output_type": "stream",
          "name": "stdout",
          "text": [
            "_________________________ 2\n",
            "Davies Boulding   (should be low)   1.957223081315819\n",
            "Calinski Harabasz (should be high) 111.90020332520037\n",
            "_________________________ 3\n",
            "Davies Boulding   (should be low)   2.8078980771658215\n",
            "Calinski Harabasz (should be high) 662.5526837787584\n",
            "_________________________ 4\n",
            "Davies Boulding   (should be low)   2.606389755111424\n",
            "Calinski Harabasz (should be high) 205.9193558938128\n",
            "_________________________ 5\n",
            "Davies Boulding   (should be low)   2.4467202989922088\n",
            "Calinski Harabasz (should be high) 193.57458665440305\n",
            "_________________________ 6\n",
            "Davies Boulding   (should be low)   2.2642491445387747\n",
            "Calinski Harabasz (should be high) 204.97787233547197\n",
            "_________________________ 7\n",
            "Davies Boulding   (should be low)   2.1074865768187925\n",
            "Calinski Harabasz (should be high) 401.94181190043093\n",
            "_________________________ 8\n",
            "Davies Boulding   (should be low)   1.6884034160012935\n",
            "Calinski Harabasz (should be high) 406.0670699557539\n",
            "_________________________ 9\n",
            "Davies Boulding   (should be low)   1.6492486031161049\n",
            "Calinski Harabasz (should be high) 390.5964864877278\n",
            "CPU times: user 2.6 s, sys: 775 ms, total: 3.37 s\n",
            "Wall time: 2.54 s\n"
          ]
        }
      ]
    },
    {
      "cell_type": "code",
      "metadata": {
        "id": "nwofe1OwtUwa"
      },
      "source": [
        "# Start with 2 clusters for intelligbility of results\n",
        "# Going to go with K=7 based on above\n",
        "def kmeans_sentences(k, X):\n",
        "    ''' Input k, number of clusters and training data\n",
        "    returns k lists, each of which are the ten most highly weighted words in\n",
        "    mean centriod of cluster'''\n",
        "    \n",
        "    #Specify and get model\n",
        "    kmeans = KMeans(n_clusters = k, init='k-means++', max_iter=100, n_init=1, random_state= RANDOM_SEED)\n",
        "    kmeans.fit(X)\n",
        "    \n",
        "    #find typical vector for each cluster (gets K X row shape)\n",
        "    centers = kmeans.cluster_centers_\n",
        "    \n",
        "    #get f names\n",
        "    f_names = vectorizer.get_feature_names()\n",
        "    \n",
        "    #compile k lists of strs within a dict, str for final terms, lst to iterate over and get terms using IDX's\n",
        "    d = {}\n",
        "    for i in range(k):\n",
        "        d[\"cl\" + str(i) + '_str'] = [] #empty list to capture list of strings\n",
        "        cent_idx_s = centers.argsort()[i][-1:-6:-1] #gets Kth item and slices last six items (based on mean sent length analysis)\n",
        "        d[\"cl\" + str(i) + '_lst'] = list(cent_idx_s)  #previously was slice [i][10] first 10 items from cent idx variable change per iteration\n",
        "    \n",
        "    #get feature names for idxed items and compile list of lists as result\n",
        "    result = []\n",
        "    \n",
        "    for i in range(k):\n",
        "        for item  in d[\"cl\" + str(i) + '_lst']:\n",
        "            d[\"cl\" + str(i) + '_str'].append(f_names[item])\n",
        "        result.append(d[\"cl\" + str(i) + '_str']) \n",
        "    \n",
        "    return result"
      ],
      "execution_count": null,
      "outputs": []
    },
    {
      "cell_type": "code",
      "metadata": {
        "id": "HFdf4L13zz2o"
      },
      "source": [
        "list_centroids = kmeans_sentences(7, X_train)"
      ],
      "execution_count": null,
      "outputs": []
    },
    {
      "cell_type": "code",
      "metadata": {
        "colab": {
          "base_uri": "https://localhost:8080/"
        },
        "id": "wuiDIgUqz7un",
        "outputId": "d96f9bc0-f0f8-481b-f035-437531c49b8c"
      },
      "source": [
        "print ([list for list in list_centroids])"
      ],
      "execution_count": null,
      "outputs": [
        {
          "output_type": "stream",
          "name": "stdout",
          "text": [
            "[['called', 'lrb', 'rrb', 'used', 'area'], ['south', 'west', 'east', 'north', 'located'], ['born', 'lrb born', 'rrb', 'lrb', 'football'], ['city', 'france', 'used', 'department', 'commune'], ['state', 'city', 'states', 'county', 'university'], ['people', 'lrb', 'rrb', 'commune', 'region'], ['rrb', 'lrb', 'lrb rrb', 'known', 'used']]\n"
          ]
        }
      ]
    },
    {
      "cell_type": "markdown",
      "metadata": {
        "id": "NkjcYGD735K2"
      },
      "source": [
        "Need to ascertain average sentence length in X_train, as ten words in the centroid list may be too big"
      ]
    },
    {
      "cell_type": "code",
      "metadata": {
        "colab": {
          "base_uri": "https://localhost:8080/"
        },
        "id": "O3cE4JT74CyO",
        "outputId": "255dfe2d-cdd2-4651-b980-ad096af171b7"
      },
      "source": [
        "len(tenK_train.iloc[0,0])"
      ],
      "execution_count": null,
      "outputs": [
        {
          "output_type": "execute_result",
          "data": {
            "text/plain": [
              "87"
            ]
          },
          "metadata": {},
          "execution_count": 16
        }
      ]
    },
    {
      "cell_type": "code",
      "metadata": {
        "id": "IbzNtSRZBsH8"
      },
      "source": [
        "tenK_train['word_count'] = tenK_train.original_text.apply(lambda x: len(str(x).split(' ')))"
      ],
      "execution_count": null,
      "outputs": []
    },
    {
      "cell_type": "code",
      "metadata": {
        "colab": {
          "base_uri": "https://localhost:8080/",
          "height": 202
        },
        "id": "Lmb56_1E0BS3",
        "outputId": "0c6aed22-4b6d-4880-e957-a47770ed3a95"
      },
      "source": [
        "tenK_train.head()"
      ],
      "execution_count": null,
      "outputs": [
        {
          "output_type": "execute_result",
          "data": {
            "text/html": [
              "<div>\n",
              "<style scoped>\n",
              "    .dataframe tbody tr th:only-of-type {\n",
              "        vertical-align: middle;\n",
              "    }\n",
              "\n",
              "    .dataframe tbody tr th {\n",
              "        vertical-align: top;\n",
              "    }\n",
              "\n",
              "    .dataframe thead th {\n",
              "        text-align: right;\n",
              "    }\n",
              "</style>\n",
              "<table border=\"1\" class=\"dataframe\">\n",
              "  <thead>\n",
              "    <tr style=\"text-align: right;\">\n",
              "      <th></th>\n",
              "      <th>original_text</th>\n",
              "      <th>label</th>\n",
              "      <th>word_count</th>\n",
              "    </tr>\n",
              "  </thead>\n",
              "  <tbody>\n",
              "    <tr>\n",
              "      <th>408219</th>\n",
              "      <td>Wolfgang Kleff -LRB- born 16 November , 1946 -...</td>\n",
              "      <td>0</td>\n",
              "      <td>16</td>\n",
              "    </tr>\n",
              "    <tr>\n",
              "      <th>392848</th>\n",
              "      <td>Tungsten -LRB- sometimes named wolfram -RRB- i...</td>\n",
              "      <td>0</td>\n",
              "      <td>25</td>\n",
              "    </tr>\n",
              "    <tr>\n",
              "      <th>188804</th>\n",
              "      <td>The headwaters are located on Mount Timpanogos...</td>\n",
              "      <td>1</td>\n",
              "      <td>17</td>\n",
              "    </tr>\n",
              "    <tr>\n",
              "      <th>140847</th>\n",
              "      <td>Saint-Sauveur-de-Puynormand is a commune in th...</td>\n",
              "      <td>1</td>\n",
              "      <td>14</td>\n",
              "    </tr>\n",
              "    <tr>\n",
              "      <th>192959</th>\n",
              "      <td>Whether on land or in water , fire salamanders...</td>\n",
              "      <td>1</td>\n",
              "      <td>12</td>\n",
              "    </tr>\n",
              "  </tbody>\n",
              "</table>\n",
              "</div>"
            ],
            "text/plain": [
              "                                            original_text  label  word_count\n",
              "408219  Wolfgang Kleff -LRB- born 16 November , 1946 -...      0          16\n",
              "392848  Tungsten -LRB- sometimes named wolfram -RRB- i...      0          25\n",
              "188804  The headwaters are located on Mount Timpanogos...      1          17\n",
              "140847  Saint-Sauveur-de-Puynormand is a commune in th...      1          14\n",
              "192959  Whether on land or in water , fire salamanders...      1          12"
            ]
          },
          "metadata": {},
          "execution_count": 18
        }
      ]
    },
    {
      "cell_type": "code",
      "metadata": {
        "colab": {
          "base_uri": "https://localhost:8080/"
        },
        "id": "tHucdjTL1f3d",
        "outputId": "03ec3674-5404-4331-c23f-4cc96c678639"
      },
      "source": [
        "#sanity check split\n",
        "sample_sent = tenK_train.iloc[2,0]\n",
        "print (sample_sent)"
      ],
      "execution_count": null,
      "outputs": [
        {
          "output_type": "stream",
          "name": "stdout",
          "text": [
            "The headwaters are located on Mount Timpanogos and the river continues down through American Fork Canyon .\n"
          ]
        }
      ]
    },
    {
      "cell_type": "code",
      "metadata": {
        "colab": {
          "base_uri": "https://localhost:8080/",
          "height": 294
        },
        "id": "Ln0iP6XTCgrr",
        "outputId": "2ea30766-5f15-4104-97e1-6844f894fa95"
      },
      "source": [
        "tenK_train.describe()"
      ],
      "execution_count": null,
      "outputs": [
        {
          "output_type": "execute_result",
          "data": {
            "text/html": [
              "<div>\n",
              "<style scoped>\n",
              "    .dataframe tbody tr th:only-of-type {\n",
              "        vertical-align: middle;\n",
              "    }\n",
              "\n",
              "    .dataframe tbody tr th {\n",
              "        vertical-align: top;\n",
              "    }\n",
              "\n",
              "    .dataframe thead th {\n",
              "        text-align: right;\n",
              "    }\n",
              "</style>\n",
              "<table border=\"1\" class=\"dataframe\">\n",
              "  <thead>\n",
              "    <tr style=\"text-align: right;\">\n",
              "      <th></th>\n",
              "      <th>label</th>\n",
              "      <th>word_count</th>\n",
              "    </tr>\n",
              "  </thead>\n",
              "  <tbody>\n",
              "    <tr>\n",
              "      <th>count</th>\n",
              "      <td>10000.00000</td>\n",
              "      <td>10000.000000</td>\n",
              "    </tr>\n",
              "    <tr>\n",
              "      <th>mean</th>\n",
              "      <td>0.50230</td>\n",
              "      <td>21.735600</td>\n",
              "    </tr>\n",
              "    <tr>\n",
              "      <th>std</th>\n",
              "      <td>0.50002</td>\n",
              "      <td>12.499677</td>\n",
              "    </tr>\n",
              "    <tr>\n",
              "      <th>min</th>\n",
              "      <td>0.00000</td>\n",
              "      <td>1.000000</td>\n",
              "    </tr>\n",
              "    <tr>\n",
              "      <th>25%</th>\n",
              "      <td>0.00000</td>\n",
              "      <td>13.000000</td>\n",
              "    </tr>\n",
              "    <tr>\n",
              "      <th>50%</th>\n",
              "      <td>1.00000</td>\n",
              "      <td>20.000000</td>\n",
              "    </tr>\n",
              "    <tr>\n",
              "      <th>75%</th>\n",
              "      <td>1.00000</td>\n",
              "      <td>29.000000</td>\n",
              "    </tr>\n",
              "    <tr>\n",
              "      <th>max</th>\n",
              "      <td>1.00000</td>\n",
              "      <td>80.000000</td>\n",
              "    </tr>\n",
              "  </tbody>\n",
              "</table>\n",
              "</div>"
            ],
            "text/plain": [
              "             label    word_count\n",
              "count  10000.00000  10000.000000\n",
              "mean       0.50230     21.735600\n",
              "std        0.50002     12.499677\n",
              "min        0.00000      1.000000\n",
              "25%        0.00000     13.000000\n",
              "50%        1.00000     20.000000\n",
              "75%        1.00000     29.000000\n",
              "max        1.00000     80.000000"
            ]
          },
          "metadata": {},
          "execution_count": 20
        }
      ]
    },
    {
      "cell_type": "code",
      "metadata": {
        "id": "prxbv-jaCpO5"
      },
      "source": [
        "#given mean sentence lengh of 22, 10 chars is about half the sentance, so going for 5 as smaller size. Edit function above "
      ],
      "execution_count": null,
      "outputs": []
    },
    {
      "cell_type": "code",
      "metadata": {
        "colab": {
          "base_uri": "https://localhost:8080/",
          "height": 35
        },
        "id": "HBuisglE2VMi",
        "outputId": "bf79c6ed-eb11-4801-a15b-3fefc145c623"
      },
      "source": [
        "sample_sent[-1:-6:-1]"
      ],
      "execution_count": null,
      "outputs": [
        {
          "output_type": "execute_result",
          "data": {
            "application/vnd.google.colaboratory.intrinsic+json": {
              "type": "string"
            },
            "text/plain": [
              "'. noy'"
            ]
          },
          "metadata": {},
          "execution_count": 22
        }
      ]
    },
    {
      "cell_type": "code",
      "metadata": {
        "id": "IDwdXEA42ps5"
      },
      "source": [
        "# it seems that the brackets are messing up the purity of the clusters so removing them may give more distinctive cluster, but will it improve classifiers?...\n",
        "# 7 Clusters with 5 top features looks to be about right, need to lose the RRB / LRB notation. So next step is some preprocessing....\n",
        "# if the clustering above is post vectorizer, then need to re-do the sample, remove the unwanted terms RRB - LRB and any seperators, revectorise and repeat."
      ],
      "execution_count": null,
      "outputs": []
    },
    {
      "cell_type": "code",
      "metadata": {
        "id": "_FPJCXubFb0E"
      },
      "source": [
        "#new sample 10K\n",
        "new_10K_train  = train_df.sample(10000)"
      ],
      "execution_count": null,
      "outputs": []
    },
    {
      "cell_type": "code",
      "metadata": {
        "colab": {
          "base_uri": "https://localhost:8080/",
          "height": 202
        },
        "id": "PKo3h_XoFsAF",
        "outputId": "93982a65-47c2-42b2-84c9-a5f747111bd0"
      },
      "source": [
        "new_10K_train.head()"
      ],
      "execution_count": null,
      "outputs": [
        {
          "output_type": "execute_result",
          "data": {
            "text/html": [
              "<div>\n",
              "<style scoped>\n",
              "    .dataframe tbody tr th:only-of-type {\n",
              "        vertical-align: middle;\n",
              "    }\n",
              "\n",
              "    .dataframe tbody tr th {\n",
              "        vertical-align: top;\n",
              "    }\n",
              "\n",
              "    .dataframe thead th {\n",
              "        text-align: right;\n",
              "    }\n",
              "</style>\n",
              "<table border=\"1\" class=\"dataframe\">\n",
              "  <thead>\n",
              "    <tr style=\"text-align: right;\">\n",
              "      <th></th>\n",
              "      <th>original_text</th>\n",
              "      <th>label</th>\n",
              "    </tr>\n",
              "  </thead>\n",
              "  <tbody>\n",
              "    <tr>\n",
              "      <th>147920</th>\n",
              "      <td>The U.S. Census Bureau 2007 estimate for the c...</td>\n",
              "      <td>1</td>\n",
              "    </tr>\n",
              "    <tr>\n",
              "      <th>141327</th>\n",
              "      <td>It was named in honor of Spencer Compton , the...</td>\n",
              "      <td>1</td>\n",
              "    </tr>\n",
              "    <tr>\n",
              "      <th>205320</th>\n",
              "      <td>RSS -LRB- most commonly translated as '' Reall...</td>\n",
              "      <td>1</td>\n",
              "    </tr>\n",
              "    <tr>\n",
              "      <th>408639</th>\n",
              "      <td>Wayland is connected with Wayland 's Smithy , ...</td>\n",
              "      <td>0</td>\n",
              "    </tr>\n",
              "    <tr>\n",
              "      <th>237174</th>\n",
              "      <td>At the end of the level , the player is awarde...</td>\n",
              "      <td>0</td>\n",
              "    </tr>\n",
              "  </tbody>\n",
              "</table>\n",
              "</div>"
            ],
            "text/plain": [
              "                                            original_text  label\n",
              "147920  The U.S. Census Bureau 2007 estimate for the c...      1\n",
              "141327  It was named in honor of Spencer Compton , the...      1\n",
              "205320  RSS -LRB- most commonly translated as '' Reall...      1\n",
              "408639  Wayland is connected with Wayland 's Smithy , ...      0\n",
              "237174  At the end of the level , the player is awarde...      0"
            ]
          },
          "metadata": {},
          "execution_count": 24
        }
      ]
    },
    {
      "cell_type": "code",
      "metadata": {
        "id": "fSpZSsaXFu90"
      },
      "source": [
        "brb_sent = new_10K_train.iloc[9,0]"
      ],
      "execution_count": null,
      "outputs": []
    },
    {
      "cell_type": "code",
      "metadata": {
        "colab": {
          "base_uri": "https://localhost:8080/"
        },
        "id": "sk2LfbHSGG18",
        "outputId": "204ac524-6c82-47a6-d10c-76eab0ba02de"
      },
      "source": [
        "re.findall(r'-LRB-|-RRB-', brb_sent)"
      ],
      "execution_count": null,
      "outputs": [
        {
          "output_type": "execute_result",
          "data": {
            "text/plain": [
              "['-LRB-', '-RRB-']"
            ]
          },
          "metadata": {},
          "execution_count": 26
        }
      ]
    },
    {
      "cell_type": "code",
      "metadata": {
        "colab": {
          "base_uri": "https://localhost:8080/"
        },
        "id": "vDHhfubNPRhS",
        "outputId": "71aadd63-2a10-4f04-e7df-b9b0e5264e9e"
      },
      "source": [
        "re.search('(-LRB-|-RRB-)', brb_sent)"
      ],
      "execution_count": null,
      "outputs": [
        {
          "output_type": "execute_result",
          "data": {
            "text/plain": [
              "<re.Match object; span=(5, 10), match='-LRB-'>"
            ]
          },
          "metadata": {},
          "execution_count": 27
        }
      ]
    },
    {
      "cell_type": "code",
      "metadata": {
        "id": "HO_t-Z2qP1gz"
      },
      "source": [
        "regex_pattern = re.compile(r'-LRB-|-RRB-')"
      ],
      "execution_count": null,
      "outputs": []
    },
    {
      "cell_type": "code",
      "metadata": {
        "id": "Gm-tfR4JNFOj"
      },
      "source": [
        "#Function to remove these terms\n",
        "cleaned_new_10K = new_10K_train.replace(to_replace ='-LRB-|-RRB-', value = '', regex = True)"
      ],
      "execution_count": null,
      "outputs": []
    },
    {
      "cell_type": "code",
      "metadata": {
        "colab": {
          "base_uri": "https://localhost:8080/"
        },
        "id": "aFhdlC0SQ7SZ",
        "outputId": "c3bcbff9-187b-4397-c4b5-450d2d893983"
      },
      "source": [
        "print (cleaned_new_10K.iloc[9,0])\n",
        "print (brb_sent)"
      ],
      "execution_count": null,
      "outputs": [
        {
          "output_type": "stream",
          "name": "stdout",
          "text": [
            "Dill  Anethum graveolens  is a short-lived perennial herb .\n",
            "Dill -LRB- Anethum graveolens -RRB- is a short-lived perennial herb .\n"
          ]
        }
      ]
    },
    {
      "cell_type": "code",
      "metadata": {
        "id": "05gNStwxpaDK"
      },
      "source": [
        "# Worth inserting a step here that looks into different params for the Vectorizor and seeing how this impacts the quality of the clusters."
      ],
      "execution_count": null,
      "outputs": []
    },
    {
      "cell_type": "code",
      "metadata": {
        "id": "2eeG9HGCRC5Q"
      },
      "source": [
        "cleanANDvec10K = vectorizer.fit_transform(cleaned_new_10K['original_text']) "
      ],
      "execution_count": null,
      "outputs": []
    },
    {
      "cell_type": "code",
      "metadata": {
        "id": "N1MLt_uqRw55"
      },
      "source": [
        "list_centroids = kmeans_sentences(7, cleanANDvec10K)"
      ],
      "execution_count": null,
      "outputs": []
    },
    {
      "cell_type": "code",
      "metadata": {
        "colab": {
          "base_uri": "https://localhost:8080/"
        },
        "id": "fVMIjx_kR354",
        "outputId": "ecc62462-a746-4e26-db04-092ed4613376"
      },
      "source": [
        "print ([list for list in list_centroids])"
      ],
      "execution_count": null,
      "outputs": [
        {
          "output_type": "stream",
          "name": "stdout",
          "text": [
            "[['united', 'states', 'united states', 'city', 'county'], ['born', 'football', 'player', 'football player', 'american'], ['march', 'born', 'known', 'american', 'december'], ['known', 'city', 'called', 'new', 'time'], ['used', 'like', 'time', 'known', 'english'], ['france', 'department', 'commune', 'region', 'north'], ['world', 'war', 'known', 'june', 'including']]\n"
          ]
        }
      ]
    },
    {
      "cell_type": "code",
      "metadata": {
        "colab": {
          "base_uri": "https://localhost:8080/"
        },
        "id": "P0SQu9jaR8aQ",
        "outputId": "5affe218-70be-46aa-9dda-47f829a56395"
      },
      "source": [
        "## Comparison to 10K sample with Brackets\n",
        "lr_clf = LogisticRegression(solver='lbfgs', random_state = RANDOM_SEED, max_iter=1000)  #exact copy of baseline hyparameters on the 10K version)\n",
        "\n",
        "scalers = [MaxAbsScaler(), StandardScaler(with_mean=False), RobustScaler(with_centering=False)]\n",
        "for scaler in scalers:\n",
        "  print ('For: ', scaler)\n",
        "  scaler.fit(cleanANDvec10K)\n",
        "  X_train_scaled = scaler.transform(cleanANDvec10K)\n",
        "  scores = cross_val_score(lr_clf, X_train_scaled, new_10K_train.label, cv=shuff_spt) # \n",
        "  print (\"Mean CV Score:                       \", scores.mean()) #Essentially no difference to unscaled\n",
        "print ('The baseline unscaled LR CLF produced 0.55798')"
      ],
      "execution_count": null,
      "outputs": [
        {
          "output_type": "stream",
          "name": "stdout",
          "text": [
            "For:  MaxAbsScaler(copy=True)\n",
            "Mean CV Score:                        0.5599000000000001\n",
            "For:  StandardScaler(copy=True, with_mean=False, with_std=True)\n",
            "Mean CV Score:                        0.5569400000000001\n",
            "For:  RobustScaler(copy=True, quantile_range=(25.0, 75.0), with_centering=False,\n",
            "             with_scaling=True)\n",
            "Mean CV Score:                        0.5559000000000001\n",
            "The baseline unscaled LR CLF produced 0.55798\n"
          ]
        }
      ]
    },
    {
      "cell_type": "code",
      "metadata": {
        "id": "aneLi1JwTitv"
      },
      "source": [
        "## Exploring impact of Vectorizor parameters on quality of clusters, with cleaned data sample\n",
        "##vectorizer = TfidfVectorizer(min_df = 100, stop_words ='english', ngram_range = (1, 2)) #Baseline params used to here"
      ],
      "execution_count": null,
      "outputs": []
    },
    {
      "cell_type": "code",
      "metadata": {
        "colab": {
          "base_uri": "https://localhost:8080/"
        },
        "id": "PnQtyUNrmr39",
        "outputId": "d0c83dfa-d751-4a2c-e7b3-4e6875afa697"
      },
      "source": [
        "#Using grid search CV and LR classfier - outcome measure is Davies_Boulding index score\n",
        "\n",
        "kmeans = KMeans(n_clusters = 9, init='k-means++', max_iter=100, n_init=1, random_state=RANDOM_SEED)\n",
        "kmeans.fit(cleanANDvec10K)\n",
        "    #print ('Shape of reshaped labels:', kmeans.labels_.reshape(-1,1).shape)\n",
        "    #print ('Shape of reshaped labels after .ravel():', kmeans.labels_.reshape(-1,1).ravel().shape)\n",
        "print ('Davies Boulding   (should be low)  ', davies_bouldin_score(cleanANDvec10K.toarray(), kmeans.labels_.reshape(-1,1).ravel()))\n",
        "print ('Davies Boulding   (should be low)   1.581827421894325 - BASELINE with k=9 and X_train')"
      ],
      "execution_count": null,
      "outputs": [
        {
          "output_type": "stream",
          "name": "stdout",
          "text": [
            "Davies Boulding   (should be low)   1.9899423568884462\n",
            "Davies Boulding   (should be low)   1.581827421894325 - BASELINE with k=9 and X_train\n"
          ]
        }
      ]
    },
    {
      "cell_type": "markdown",
      "metadata": {
        "id": "OphrbsF60s0D"
      },
      "source": [
        "The above shows a reduction in DB idx from 1.58 to 1.32 where k=9 and with the cleaned (RRB removed) data"
      ]
    },
    {
      "cell_type": "code",
      "metadata": {
        "id": "shLeOnpJt2oy"
      },
      "source": [
        "#gridsearch CV on Vectorizer\n",
        "pipeline = Pipeline([\n",
        "           ('vect', TfidfVectorizer()),\n",
        "           ('km', KMeans(n_clusters = 9, init='k-means++', max_iter=100, n_init=1, random_state=RANDOM_SEED)),\n",
        "           \n",
        "])\n",
        "\n",
        "parameters = {\n",
        "    'vect__min_df': [20, 50, 100, 250, 500], \n",
        "    'vect__ngram_range':[(1,1), (1,2), (2,2), (1,3),(2,3),(3,3)]\n",
        "    }\n",
        "\n",
        "gridsearch  = GridSearchCV(\n",
        "    pipeline, \n",
        "    parameters, \n",
        "    #scoring=davies_bouldin_score(X, y),\n",
        "    verbose = 2)"
      ],
      "execution_count": null,
      "outputs": []
    },
    {
      "cell_type": "code",
      "metadata": {
        "id": "2dOmXm0i8x50"
      },
      "source": [
        "#Grid search not working, so create function and loop through params\n",
        "\n",
        "def fit_clusters_Qscores(X, k=9):\n",
        "  ''' \n",
        "  Input X - tfidf vectorized training data, k=number of clusters default to 9\n",
        "  Output dbscore\n",
        "  '''\n",
        "  kmeans = KMeans(n_clusters = k, init='k-means++', max_iter=100, n_init=1, random_state=RANDOM_SEED)\n",
        "  kmeans.fit(X)\n",
        "  return davies_bouldin_score(X.toarray(), kmeans.labels_.reshape(-1,1).ravel()), calinski_harabasz_score(X.toarray(), kmeans.labels_.reshape(-1,1).ravel())\n"
      ],
      "execution_count": null,
      "outputs": []
    },
    {
      "cell_type": "code",
      "metadata": {
        "colab": {
          "base_uri": "https://localhost:8080/"
        },
        "id": "XA_NFawEUDrD",
        "outputId": "b95946f0-e8f6-46d7-d914-24e87e9a31a0"
      },
      "source": [
        "fit_clusters_Qscores(cleanANDvec10K)"
      ],
      "execution_count": null,
      "outputs": [
        {
          "output_type": "execute_result",
          "data": {
            "text/plain": [
              "(1.9899423568884462, 275.1242330936048)"
            ]
          },
          "metadata": {},
          "execution_count": 39
        }
      ]
    },
    {
      "cell_type": "code",
      "metadata": {
        "colab": {
          "base_uri": "https://localhost:8080/"
        },
        "id": "0U-pvgUIULZf",
        "outputId": "17e79a5c-3595-45b0-ee69-fc34b4cd7b73"
      },
      "source": [
        "for k in range(2,15):\n",
        "  result = fit_clusters_Qscores(cleanANDvec10K, k)\n",
        "  print (k, result)"
      ],
      "execution_count": null,
      "outputs": [
        {
          "output_type": "stream",
          "name": "stdout",
          "text": [
            "2 (1.5664841056326853, 331.3830518479815)\n",
            "3 (1.6508433479172808, 276.24187775913674)\n",
            "4 (2.3375214536318945, 223.34017449013854)\n",
            "5 (2.1240686442590415, 265.302567052471)\n",
            "6 (2.0203448175849164, 323.6203650123538)\n",
            "7 (1.8305717628879974, 316.5953381763397)\n",
            "8 (1.7529067366982627, 292.96695830750974)\n",
            "9 (1.9899423568884462, 275.1242330936048)\n",
            "10 (1.9210300092105232, 264.56561721204173)\n",
            "11 (1.8833373252871277, 252.17834275462639)\n",
            "12 (1.9216090163625488, 254.8835567110233)\n",
            "13 (1.888015475058149, 250.59051045953956)\n",
            "14 (1.8629936724488823, 263.52874762934505)\n"
          ]
        }
      ]
    },
    {
      "cell_type": "code",
      "metadata": {
        "colab": {
          "base_uri": "https://localhost:8080/",
          "height": 743
        },
        "id": "lzwK8xBDUe4n",
        "outputId": "c416ef79-8ecb-4393-8c5d-73c0db146b1b"
      },
      "source": [
        "\n",
        "for doc_f in [20, 50, 75, 100]:\n",
        "  print (doc_f, '#'*25)\n",
        "  for idx, ngrams in enumerate([(1,1), (1,2), (2,2), (1,3),(2,3),(3,3)]):\n",
        "    vectorizer = TfidfVectorizer(min_df = doc_f, stop_words ='english', ngram_range = (ngrams[0], ngrams[1]))\n",
        "    X = vectorizer.fit_transform(cleaned_new_10K['original_text']) \n",
        "    result = fit_clusters_Qscores(X, 2)\n",
        "    print (ngrams[0], ngrams [1], result)\n",
        "# Super interesting as we climb the ngram range to trigrams less and less min-df is appropriate, however based on min_df 20 and ngrams (3,3) the db score and ch scores are superb!"
      ],
      "execution_count": null,
      "outputs": [
        {
          "output_type": "stream",
          "name": "stdout",
          "text": [
            "20 #########################\n",
            "1 1 (4.489578276745416, 78.98152461893613)\n",
            "1 2 (2.9903142671366125, 93.59634953619782)\n",
            "2 2 (0.4829094936915861, 1989.7407525233823)\n",
            "1 3 (3.0566892688613283, 90.69406605970559)\n",
            "2 3 (0.8100272401770878, 241.30513145271829)\n",
            "3 3 (0.0481448282127027, 811.2326246232177)\n",
            "50 #########################\n",
            "1 1 (2.47867446189316, 148.47018179607602)\n",
            "1 2 (2.1807230144223526, 170.1137574538912)\n",
            "2 2 (0.10969767319188299, 5753.768345101683)\n",
            "1 3 (5.876891321826757, 126.0945150997147)\n",
            "2 3 (0.10965217359414943, 5753.520535442385)\n",
            "3 3 (0.654183748075948, 18673.492929140077)\n",
            "75 #########################\n",
            "1 1 (3.484099530582081, 262.2994262616778)\n",
            "1 2 (3.469040422743216, 268.4562787097896)\n",
            "2 2 (0.025158762144370125, 21381.658851534165)\n",
            "1 3 (3.469040422743216, 268.4562787097896)\n",
            "2 3 (0.025158762144370125, 21381.658851534165)\n"
          ]
        },
        {
          "output_type": "error",
          "ename": "ValueError",
          "evalue": "ignored",
          "traceback": [
            "\u001b[0;31m---------------------------------------------------------------------------\u001b[0m",
            "\u001b[0;31mValueError\u001b[0m                                Traceback (most recent call last)",
            "\u001b[0;32m<ipython-input-41-cf0316acfa09>\u001b[0m in \u001b[0;36m<module>\u001b[0;34m()\u001b[0m\n\u001b[1;32m      4\u001b[0m   \u001b[0;32mfor\u001b[0m \u001b[0midx\u001b[0m\u001b[0;34m,\u001b[0m \u001b[0mngrams\u001b[0m \u001b[0;32min\u001b[0m \u001b[0menumerate\u001b[0m\u001b[0;34m(\u001b[0m\u001b[0;34m[\u001b[0m\u001b[0;34m(\u001b[0m\u001b[0;36m1\u001b[0m\u001b[0;34m,\u001b[0m\u001b[0;36m1\u001b[0m\u001b[0;34m)\u001b[0m\u001b[0;34m,\u001b[0m \u001b[0;34m(\u001b[0m\u001b[0;36m1\u001b[0m\u001b[0;34m,\u001b[0m\u001b[0;36m2\u001b[0m\u001b[0;34m)\u001b[0m\u001b[0;34m,\u001b[0m \u001b[0;34m(\u001b[0m\u001b[0;36m2\u001b[0m\u001b[0;34m,\u001b[0m\u001b[0;36m2\u001b[0m\u001b[0;34m)\u001b[0m\u001b[0;34m,\u001b[0m \u001b[0;34m(\u001b[0m\u001b[0;36m1\u001b[0m\u001b[0;34m,\u001b[0m\u001b[0;36m3\u001b[0m\u001b[0;34m)\u001b[0m\u001b[0;34m,\u001b[0m\u001b[0;34m(\u001b[0m\u001b[0;36m2\u001b[0m\u001b[0;34m,\u001b[0m\u001b[0;36m3\u001b[0m\u001b[0;34m)\u001b[0m\u001b[0;34m,\u001b[0m\u001b[0;34m(\u001b[0m\u001b[0;36m3\u001b[0m\u001b[0;34m,\u001b[0m\u001b[0;36m3\u001b[0m\u001b[0;34m)\u001b[0m\u001b[0;34m]\u001b[0m\u001b[0;34m)\u001b[0m\u001b[0;34m:\u001b[0m\u001b[0;34m\u001b[0m\u001b[0;34m\u001b[0m\u001b[0m\n\u001b[1;32m      5\u001b[0m     \u001b[0mvectorizer\u001b[0m \u001b[0;34m=\u001b[0m \u001b[0mTfidfVectorizer\u001b[0m\u001b[0;34m(\u001b[0m\u001b[0mmin_df\u001b[0m \u001b[0;34m=\u001b[0m \u001b[0mdoc_f\u001b[0m\u001b[0;34m,\u001b[0m \u001b[0mstop_words\u001b[0m \u001b[0;34m=\u001b[0m\u001b[0;34m'english'\u001b[0m\u001b[0;34m,\u001b[0m \u001b[0mngram_range\u001b[0m \u001b[0;34m=\u001b[0m \u001b[0;34m(\u001b[0m\u001b[0mngrams\u001b[0m\u001b[0;34m[\u001b[0m\u001b[0;36m0\u001b[0m\u001b[0;34m]\u001b[0m\u001b[0;34m,\u001b[0m \u001b[0mngrams\u001b[0m\u001b[0;34m[\u001b[0m\u001b[0;36m1\u001b[0m\u001b[0;34m]\u001b[0m\u001b[0;34m)\u001b[0m\u001b[0;34m)\u001b[0m\u001b[0;34m\u001b[0m\u001b[0;34m\u001b[0m\u001b[0m\n\u001b[0;32m----> 6\u001b[0;31m     \u001b[0mX\u001b[0m \u001b[0;34m=\u001b[0m \u001b[0mvectorizer\u001b[0m\u001b[0;34m.\u001b[0m\u001b[0mfit_transform\u001b[0m\u001b[0;34m(\u001b[0m\u001b[0mcleaned_new_10K\u001b[0m\u001b[0;34m[\u001b[0m\u001b[0;34m'original_text'\u001b[0m\u001b[0;34m]\u001b[0m\u001b[0;34m)\u001b[0m\u001b[0;34m\u001b[0m\u001b[0;34m\u001b[0m\u001b[0m\n\u001b[0m\u001b[1;32m      7\u001b[0m     \u001b[0mresult\u001b[0m \u001b[0;34m=\u001b[0m \u001b[0mfit_clusters_Qscores\u001b[0m\u001b[0;34m(\u001b[0m\u001b[0mX\u001b[0m\u001b[0;34m,\u001b[0m \u001b[0;36m2\u001b[0m\u001b[0;34m)\u001b[0m\u001b[0;34m\u001b[0m\u001b[0;34m\u001b[0m\u001b[0m\n\u001b[1;32m      8\u001b[0m     \u001b[0mprint\u001b[0m \u001b[0;34m(\u001b[0m\u001b[0mngrams\u001b[0m\u001b[0;34m[\u001b[0m\u001b[0;36m0\u001b[0m\u001b[0;34m]\u001b[0m\u001b[0;34m,\u001b[0m \u001b[0mngrams\u001b[0m \u001b[0;34m[\u001b[0m\u001b[0;36m1\u001b[0m\u001b[0;34m]\u001b[0m\u001b[0;34m,\u001b[0m \u001b[0mresult\u001b[0m\u001b[0;34m)\u001b[0m\u001b[0;34m\u001b[0m\u001b[0;34m\u001b[0m\u001b[0m\n",
            "\u001b[0;32m/usr/local/lib/python3.7/dist-packages/sklearn/feature_extraction/text.py\u001b[0m in \u001b[0;36mfit_transform\u001b[0;34m(self, raw_documents, y)\u001b[0m\n\u001b[1;32m   1857\u001b[0m         \"\"\"\n\u001b[1;32m   1858\u001b[0m         \u001b[0mself\u001b[0m\u001b[0;34m.\u001b[0m\u001b[0m_check_params\u001b[0m\u001b[0;34m(\u001b[0m\u001b[0;34m)\u001b[0m\u001b[0;34m\u001b[0m\u001b[0;34m\u001b[0m\u001b[0m\n\u001b[0;32m-> 1859\u001b[0;31m         \u001b[0mX\u001b[0m \u001b[0;34m=\u001b[0m \u001b[0msuper\u001b[0m\u001b[0;34m(\u001b[0m\u001b[0;34m)\u001b[0m\u001b[0;34m.\u001b[0m\u001b[0mfit_transform\u001b[0m\u001b[0;34m(\u001b[0m\u001b[0mraw_documents\u001b[0m\u001b[0;34m)\u001b[0m\u001b[0;34m\u001b[0m\u001b[0;34m\u001b[0m\u001b[0m\n\u001b[0m\u001b[1;32m   1860\u001b[0m         \u001b[0mself\u001b[0m\u001b[0;34m.\u001b[0m\u001b[0m_tfidf\u001b[0m\u001b[0;34m.\u001b[0m\u001b[0mfit\u001b[0m\u001b[0;34m(\u001b[0m\u001b[0mX\u001b[0m\u001b[0;34m)\u001b[0m\u001b[0;34m\u001b[0m\u001b[0;34m\u001b[0m\u001b[0m\n\u001b[1;32m   1861\u001b[0m         \u001b[0;31m# X is already a transformed view of raw_documents so\u001b[0m\u001b[0;34m\u001b[0m\u001b[0;34m\u001b[0m\u001b[0;34m\u001b[0m\u001b[0m\n",
            "\u001b[0;32m/usr/local/lib/python3.7/dist-packages/sklearn/feature_extraction/text.py\u001b[0m in \u001b[0;36mfit_transform\u001b[0;34m(self, raw_documents, y)\u001b[0m\n\u001b[1;32m   1239\u001b[0m                                                        \u001b[0mmax_doc_count\u001b[0m\u001b[0;34m,\u001b[0m\u001b[0;34m\u001b[0m\u001b[0;34m\u001b[0m\u001b[0m\n\u001b[1;32m   1240\u001b[0m                                                        \u001b[0mmin_doc_count\u001b[0m\u001b[0;34m,\u001b[0m\u001b[0;34m\u001b[0m\u001b[0;34m\u001b[0m\u001b[0m\n\u001b[0;32m-> 1241\u001b[0;31m                                                        max_features)\n\u001b[0m\u001b[1;32m   1242\u001b[0m \u001b[0;34m\u001b[0m\u001b[0m\n\u001b[1;32m   1243\u001b[0m             \u001b[0mself\u001b[0m\u001b[0;34m.\u001b[0m\u001b[0mvocabulary_\u001b[0m \u001b[0;34m=\u001b[0m \u001b[0mvocabulary\u001b[0m\u001b[0;34m\u001b[0m\u001b[0;34m\u001b[0m\u001b[0m\n",
            "\u001b[0;32m/usr/local/lib/python3.7/dist-packages/sklearn/feature_extraction/text.py\u001b[0m in \u001b[0;36m_limit_features\u001b[0;34m(self, X, vocabulary, high, low, limit)\u001b[0m\n\u001b[1;32m   1107\u001b[0m         \u001b[0mkept_indices\u001b[0m \u001b[0;34m=\u001b[0m \u001b[0mnp\u001b[0m\u001b[0;34m.\u001b[0m\u001b[0mwhere\u001b[0m\u001b[0;34m(\u001b[0m\u001b[0mmask\u001b[0m\u001b[0;34m)\u001b[0m\u001b[0;34m[\u001b[0m\u001b[0;36m0\u001b[0m\u001b[0;34m]\u001b[0m\u001b[0;34m\u001b[0m\u001b[0;34m\u001b[0m\u001b[0m\n\u001b[1;32m   1108\u001b[0m         \u001b[0;32mif\u001b[0m \u001b[0mlen\u001b[0m\u001b[0;34m(\u001b[0m\u001b[0mkept_indices\u001b[0m\u001b[0;34m)\u001b[0m \u001b[0;34m==\u001b[0m \u001b[0;36m0\u001b[0m\u001b[0;34m:\u001b[0m\u001b[0;34m\u001b[0m\u001b[0;34m\u001b[0m\u001b[0m\n\u001b[0;32m-> 1109\u001b[0;31m             raise ValueError(\"After pruning, no terms remain. Try a lower\"\n\u001b[0m\u001b[1;32m   1110\u001b[0m                              \" min_df or a higher max_df.\")\n\u001b[1;32m   1111\u001b[0m         \u001b[0;32mreturn\u001b[0m \u001b[0mX\u001b[0m\u001b[0;34m[\u001b[0m\u001b[0;34m:\u001b[0m\u001b[0;34m,\u001b[0m \u001b[0mkept_indices\u001b[0m\u001b[0;34m]\u001b[0m\u001b[0;34m,\u001b[0m \u001b[0mremoved_terms\u001b[0m\u001b[0;34m\u001b[0m\u001b[0;34m\u001b[0m\u001b[0m\n",
            "\u001b[0;31mValueError\u001b[0m: After pruning, no terms remain. Try a lower min_df or a higher max_df."
          ]
        }
      ]
    },
    {
      "cell_type": "markdown",
      "metadata": {
        "id": "KBAfUxPwxZ6A"
      },
      "source": [
        "So this ran out of runway with (3,3) ngrams and min_df of 75.  But (2,2) and 75 had VERY good results... therefore looking at this in more detail."
      ]
    },
    {
      "cell_type": "code",
      "metadata": {
        "id": "3P3XQki6Xv__",
        "colab": {
          "base_uri": "https://localhost:8080/"
        },
        "outputId": "cd1757b7-24d5-4068-f3f4-71716315b200"
      },
      "source": [
        "#input, good params as V\n",
        "def investigate_cluster_features(min_df=75, ngrams=(1,1), k=2):\n",
        "  vectorizer = TfidfVectorizer(min_df = min_df, stop_words ='english', ngram_range = ngrams)\n",
        "  X = vectorizer.fit_transform(cleaned_new_10K['original_text'])\n",
        "  list_centroids = kmeans_sentences(k, X)\n",
        "  return [list for list in list_centroids]\n",
        "investigate_cluster_features()"
      ],
      "execution_count": null,
      "outputs": [
        {
          "output_type": "execute_result",
          "data": {
            "text/plain": [
              "[['united states', 'football player'], ['football player', 'united states']]"
            ]
          },
          "metadata": {},
          "execution_count": 61
        }
      ]
    },
    {
      "cell_type": "markdown",
      "metadata": {
        "id": "0b6pQKBrkTCo"
      },
      "source": [
        "This turned out to be an error, higher ngrams do not help either make topics distinct nor improve supervised task.\n",
        "\n"
      ]
    },
    {
      "cell_type": "markdown",
      "metadata": {
        "id": "Ya6sKz-woGu8"
      },
      "source": [
        "# Section 7 more LSA"
      ]
    },
    {
      "cell_type": "code",
      "metadata": {
        "id": "NhhGmQlRzhmo"
      },
      "source": [
        "#Following some of: https://towardsdatascience.com/latent-semantic-analysis-sentiment-classification-with-python-5f657346f6a3"
      ],
      "execution_count": null,
      "outputs": []
    },
    {
      "cell_type": "code",
      "metadata": {
        "id": "Cl33hg86xL0G",
        "colab": {
          "base_uri": "https://localhost:8080/"
        },
        "outputId": "6f32e728-8a90-4e9c-f473-fcb45eadf74c"
      },
      "source": [
        "X_train.shape #product of tfidf sparse matrix with 79 features"
      ],
      "execution_count": null,
      "outputs": [
        {
          "output_type": "execute_result",
          "data": {
            "text/plain": [
              "(10000, 79)"
            ]
          },
          "metadata": {},
          "execution_count": 9
        }
      ]
    },
    {
      "cell_type": "code",
      "metadata": {
        "colab": {
          "base_uri": "https://localhost:8080/"
        },
        "id": "HgY_x_j81_MO",
        "outputId": "4f103426-beca-4d77-8cc3-ebb5a25df36d"
      },
      "source": [
        "\n",
        "tenK_train.shape #pre-vectorization"
      ],
      "execution_count": null,
      "outputs": [
        {
          "output_type": "execute_result",
          "data": {
            "text/plain": [
              "(10000, 2)"
            ]
          },
          "metadata": {},
          "execution_count": 10
        }
      ]
    },
    {
      "cell_type": "code",
      "metadata": {
        "colab": {
          "base_uri": "https://localhost:8080/",
          "height": 35
        },
        "id": "JZZqE72N2gVl",
        "outputId": "14bc13dd-8e6e-498f-c1a5-f799f46e1a63"
      },
      "source": [
        "tenK_train.iloc[0,0]"
      ],
      "execution_count": null,
      "outputs": [
        {
          "output_type": "execute_result",
          "data": {
            "application/vnd.google.colaboratory.intrinsic+json": {
              "type": "string"
            },
            "text/plain": [
              "'After discovering that the Bane , creators of a soft drink called Bubble Shock !'"
            ]
          },
          "metadata": {},
          "execution_count": 26
        }
      ]
    },
    {
      "cell_type": "code",
      "metadata": {
        "colab": {
          "base_uri": "https://localhost:8080/"
        },
        "id": "eTBgqpjU2upM",
        "outputId": "0f6f7291-62cb-4001-e291-55eaa313880d"
      },
      "source": [
        "vectorizer.vocabulary_['called'] #.vocab is key val dict. So 11 is val for key 'called'"
      ],
      "execution_count": null,
      "outputs": [
        {
          "output_type": "execute_result",
          "data": {
            "text/plain": [
              "11"
            ]
          },
          "metadata": {},
          "execution_count": 24
        }
      ]
    },
    {
      "cell_type": "code",
      "metadata": {
        "colab": {
          "base_uri": "https://localhost:8080/"
        },
        "id": "Rw683JMo3nXv",
        "outputId": "2752bfcc-d85e-43b5-9842-5d683e0300c3"
      },
      "source": [
        "X_train[0, 11]"
      ],
      "execution_count": null,
      "outputs": [
        {
          "output_type": "execute_result",
          "data": {
            "text/plain": [
              "1.0"
            ]
          },
          "metadata": {},
          "execution_count": 27
        }
      ]
    },
    {
      "cell_type": "code",
      "metadata": {
        "colab": {
          "base_uri": "https://localhost:8080/"
        },
        "id": "82BalWSV5bN-",
        "outputId": "39c8385e-85e0-4f8c-b1bb-3279fb6b3d5d"
      },
      "source": [
        "X_train[0].toarray()"
      ],
      "execution_count": null,
      "outputs": [
        {
          "output_type": "execute_result",
          "data": {
            "text/plain": [
              "array([[0., 0., 0., 0., 0., 0., 0., 0., 0., 0., 0., 1., 0., 0., 0., 0.,\n",
              "        0., 0., 0., 0., 0., 0., 0., 0., 0., 0., 0., 0., 0., 0., 0., 0.,\n",
              "        0., 0., 0., 0., 0., 0., 0., 0., 0., 0., 0., 0., 0., 0., 0., 0.,\n",
              "        0., 0., 0., 0., 0., 0., 0., 0., 0., 0., 0., 0., 0., 0., 0., 0.,\n",
              "        0., 0., 0., 0., 0., 0., 0., 0., 0., 0., 0., 0., 0., 0., 0.]])"
            ]
          },
          "metadata": {},
          "execution_count": 30
        }
      ]
    },
    {
      "cell_type": "code",
      "metadata": {
        "colab": {
          "base_uri": "https://localhost:8080/"
        },
        "id": "u2sG9F-D5wCc",
        "outputId": "dd5adb75-80c4-4ab4-dd95-23e8b382bbe8"
      },
      "source": [
        "vectorizer.idf_[:11] #gives the 'scores of the first 11 terms in the dict"
      ],
      "execution_count": null,
      "outputs": [
        {
          "output_type": "execute_result",
          "data": {
            "text/plain": [
              "array([5.53761153, 5.38212663, 5.41464982, 4.73397682, 5.53761153,\n",
              "       5.36625328, 5.59531985, 5.53761153, 5.48305255, 4.08794756,\n",
              "       5.47424192])"
            ]
          },
          "metadata": {},
          "execution_count": 33
        }
      ]
    },
    {
      "cell_type": "code",
      "metadata": {
        "colab": {
          "base_uri": "https://localhost:8080/",
          "height": 503
        },
        "id": "v29VQ_2m9U10",
        "outputId": "3d594500-0e95-4204-d68a-6847413482b0"
      },
      "source": [
        "from sklearn.feature_selection import chi2\n",
        "import matplotlib.pyplot as plt\n",
        "%matplotlib inline\n",
        "plt.figure(figsize=(12,8))\n",
        "y = tenK_train.label # my add\n",
        "chi2score = chi2(X_train, y)[0] # from the repo, adjusted for my local var name (the slice [0] is Chi2, [1] is p-val)\n",
        "\n",
        "scores = list(zip(vectorizer.get_feature_names(), chi2score))\n",
        "chi2 = sorted(scores, key=lambda x:x[1])\n",
        "topchi2 = list(zip(*chi2[-20:]))\n",
        "x = range(len(topchi2[1]))\n",
        "labels = topchi2[0]\n",
        "plt.barh(x,topchi2[1], align='center', alpha=0.5)\n",
        "plt.plot(topchi2[1], x, '-o', markersize=5, alpha=0.8)\n",
        "plt.yticks(x, labels)\n",
        "plt.xlabel('$\\chi^2$')\n",
        "plt.show();"
      ],
      "execution_count": null,
      "outputs": [
        {
          "output_type": "display_data",
          "data": {
            "image/png": "[encoded data removed]",
            "text/plain": [
              "<Figure size 864x576 with 1 Axes>"
            ]
          },
          "metadata": {
            "needs_background": "light"
          }
        }
      ]
    },
    {
      "cell_type": "code",
      "metadata": {
        "id": "yR_Wj4Iu-JE9"
      },
      "source": [
        ""
      ],
      "execution_count": null,
      "outputs": []
    },
    {
      "cell_type": "markdown",
      "metadata": {
        "id": "WoVei8s9jvkj"
      },
      "source": [
        "# Section 8 Hyperparameter tuning\n",
        "- Starting with our baseline LR classifier, and the 10K sample"
      ]
    },
    {
      "cell_type": "code",
      "metadata": {
        "id": "_w320IoGJpfG"
      },
      "source": [
        "X = X_train\n",
        "y = tenK_train.label"
      ],
      "execution_count": null,
      "outputs": []
    },
    {
      "cell_type": "code",
      "metadata": {
        "colab": {
          "base_uri": "https://localhost:8080/"
        },
        "id": "sUyUyBA3kAxO",
        "outputId": "7d61d8bf-bdc8-4e26-a0ed-eace3746ba38"
      },
      "source": [
        "# #more imports to move to top of sheet\n",
        "# from sklearn import ensemble\n",
        "# from sklearn import metrics\n",
        "# from sklearn import model_selection\n",
        "\n",
        "#baseline clf lr_clf = LogisticRegression(solver='lbfgs', random_state=42, max_iter=1000) - gives 56.6222\n",
        "\n",
        "classifier = ensemble.RandomForestClassifier(n_jobs=-1, random_state=RANDOM_SEED)\n",
        "param_grid = {\n",
        "    \"n_estimators\": np.arange(100,1500, 100),  #[100,200,300,400], #for grid search\n",
        "    \"max_depth\": np.arange(1,20),              #[1,3,5,7], # for grid search\n",
        "    \"criterion\": ['gini', 'entropy'],\n",
        "    }\n",
        "\n",
        "# Grid search, took c.2.4 mins and best result was .575 criterion=entropy, max_depth=7, n_estimators=300, score=0.575, second best: criterion=gini, max_depth=7, n_estimators=200, score=0.574,\n",
        "model = model_selection.RandomizedSearchCV(\n",
        "    estimator = classifier,\n",
        "    #param_grid = param_grid, #for grid search\n",
        "    param_distributions = param_grid, # for randomizedsearchCV\n",
        "    n_iter=10, # iterations for randomized\n",
        "    scoring = 'accuracy',\n",
        "    verbose = 10,\n",
        "    n_jobs=1,\n",
        "    cv=5,\n",
        "    )\n",
        "\n",
        "model.fit(X,y)\n",
        "\n",
        "print (model.best_score_, model.best_estimator_.get_params) \n",
        "#This was for the Grid search.\n",
        "# 0.5667 <bound method BaseEstimator.get_params of RandomForestClassifier(bootstrap=True, ccp_alpha=0.0, class_weight=None,\n",
        "                      #  criterion='gini', max_depth=7, max_features='auto',\n",
        "                      #  max_leaf_nodes=None, max_samples=None,\n",
        "                      #  min_impurity_decrease=0.0, min_impurity_split=None,\n",
        "                      #  min_samples_leaf=1, min_samples_split=2,\n",
        "                      #  min_weight_fraction_leaf=0.0, n_estimators=400,\n",
        "                      #  n_jobs=-1, oob_score=False, random_state=42, verbose=0,\n",
        "                      #  warm_start=False)>\n",
        "# Random search took same time and got better results\n",
        "# n_estimators=700, max_depth=18, criterion=gini, score=0.580,\n",
        "# 0.5704 <bound method BaseEstimator.get_params of RandomForestClassifier(bootstrap=True, ccp_alpha=0.0, class_weight=None,\n",
        "                      #  criterion='gini', max_depth=18, max_features='auto',\n",
        "                      #  max_leaf_nodes=None, max_samples=None,\n",
        "                      #  min_impurity_decrease=0.0, min_impurity_split=None,\n",
        "                      #  min_samples_leaf=1, min_samples_split=2,\n",
        "                      #  min_weight_fraction_leaf=0.0, n_estimators=700,\n",
        "                      #  n_jobs=-1, oob_score=False, random_state=42, verbose=0,\n",
        "                      #  warm_start=False)>"
      ],
      "execution_count": null,
      "outputs": [
        {
          "output_type": "stream",
          "name": "stdout",
          "text": [
            "Fitting 5 folds for each of 10 candidates, totalling 50 fits\n",
            "[CV] n_estimators=1400, max_depth=19, criterion=gini .................\n"
          ]
        },
        {
          "output_type": "stream",
          "name": "stderr",
          "text": [
            "[Parallel(n_jobs=1)]: Using backend SequentialBackend with 1 concurrent workers.\n"
          ]
        },
        {
          "output_type": "stream",
          "name": "stdout",
          "text": [
            "[CV]  n_estimators=1400, max_depth=19, criterion=gini, score=0.568, total=   9.8s\n",
            "[CV] n_estimators=1400, max_depth=19, criterion=gini .................\n"
          ]
        },
        {
          "output_type": "stream",
          "name": "stderr",
          "text": [
            "[Parallel(n_jobs=1)]: Done   1 out of   1 | elapsed:    9.8s remaining:    0.0s\n"
          ]
        },
        {
          "output_type": "stream",
          "name": "stdout",
          "text": [
            "[CV]  n_estimators=1400, max_depth=19, criterion=gini, score=0.581, total=   8.5s\n",
            "[CV] n_estimators=1400, max_depth=19, criterion=gini .................\n"
          ]
        },
        {
          "output_type": "stream",
          "name": "stderr",
          "text": [
            "[Parallel(n_jobs=1)]: Done   2 out of   2 | elapsed:   18.3s remaining:    0.0s\n"
          ]
        },
        {
          "output_type": "stream",
          "name": "stdout",
          "text": [
            "[CV]  n_estimators=1400, max_depth=19, criterion=gini, score=0.581, total=   8.5s\n",
            "[CV] n_estimators=1400, max_depth=19, criterion=gini .................\n"
          ]
        },
        {
          "output_type": "stream",
          "name": "stderr",
          "text": [
            "[Parallel(n_jobs=1)]: Done   3 out of   3 | elapsed:   26.8s remaining:    0.0s\n"
          ]
        },
        {
          "output_type": "stream",
          "name": "stdout",
          "text": [
            "[CV]  n_estimators=1400, max_depth=19, criterion=gini, score=0.577, total=   8.5s\n",
            "[CV] n_estimators=1400, max_depth=19, criterion=gini .................\n"
          ]
        },
        {
          "output_type": "stream",
          "name": "stderr",
          "text": [
            "[Parallel(n_jobs=1)]: Done   4 out of   4 | elapsed:   35.3s remaining:    0.0s\n"
          ]
        },
        {
          "output_type": "stream",
          "name": "stdout",
          "text": [
            "[CV]  n_estimators=1400, max_depth=19, criterion=gini, score=0.568, total=   8.6s\n",
            "[CV] n_estimators=1400, max_depth=4, criterion=entropy ...............\n"
          ]
        },
        {
          "output_type": "stream",
          "name": "stderr",
          "text": [
            "[Parallel(n_jobs=1)]: Done   5 out of   5 | elapsed:   43.9s remaining:    0.0s\n"
          ]
        },
        {
          "output_type": "stream",
          "name": "stdout",
          "text": [
            "[CV]  n_estimators=1400, max_depth=4, criterion=entropy, score=0.560, total=   5.0s\n",
            "[CV] n_estimators=1400, max_depth=4, criterion=entropy ...............\n"
          ]
        },
        {
          "output_type": "stream",
          "name": "stderr",
          "text": [
            "[Parallel(n_jobs=1)]: Done   6 out of   6 | elapsed:   48.9s remaining:    0.0s\n"
          ]
        },
        {
          "output_type": "stream",
          "name": "stdout",
          "text": [
            "[CV]  n_estimators=1400, max_depth=4, criterion=entropy, score=0.576, total=   5.0s\n",
            "[CV] n_estimators=1400, max_depth=4, criterion=entropy ...............\n"
          ]
        },
        {
          "output_type": "stream",
          "name": "stderr",
          "text": [
            "[Parallel(n_jobs=1)]: Done   7 out of   7 | elapsed:   54.0s remaining:    0.0s\n"
          ]
        },
        {
          "output_type": "stream",
          "name": "stdout",
          "text": [
            "[CV]  n_estimators=1400, max_depth=4, criterion=entropy, score=0.574, total=   5.0s\n",
            "[CV] n_estimators=1400, max_depth=4, criterion=entropy ...............\n"
          ]
        },
        {
          "output_type": "stream",
          "name": "stderr",
          "text": [
            "[Parallel(n_jobs=1)]: Done   8 out of   8 | elapsed:   59.0s remaining:    0.0s\n"
          ]
        },
        {
          "output_type": "stream",
          "name": "stdout",
          "text": [
            "[CV]  n_estimators=1400, max_depth=4, criterion=entropy, score=0.574, total=   5.0s\n",
            "[CV] n_estimators=1400, max_depth=4, criterion=entropy ...............\n"
          ]
        },
        {
          "output_type": "stream",
          "name": "stderr",
          "text": [
            "[Parallel(n_jobs=1)]: Done   9 out of   9 | elapsed:  1.1min remaining:    0.0s\n"
          ]
        },
        {
          "output_type": "stream",
          "name": "stdout",
          "text": [
            "[CV]  n_estimators=1400, max_depth=4, criterion=entropy, score=0.558, total=   5.0s\n",
            "[CV] n_estimators=900, max_depth=13, criterion=entropy ...............\n",
            "[CV]  n_estimators=900, max_depth=13, criterion=entropy, score=0.572, total=   4.9s\n",
            "[CV] n_estimators=900, max_depth=13, criterion=entropy ...............\n",
            "[CV]  n_estimators=900, max_depth=13, criterion=entropy, score=0.582, total=   4.8s\n",
            "[CV] n_estimators=900, max_depth=13, criterion=entropy ...............\n",
            "[CV]  n_estimators=900, max_depth=13, criterion=entropy, score=0.574, total=   4.8s\n",
            "[CV] n_estimators=900, max_depth=13, criterion=entropy ...............\n",
            "[CV]  n_estimators=900, max_depth=13, criterion=entropy, score=0.579, total=   4.8s\n",
            "[CV] n_estimators=900, max_depth=13, criterion=entropy ...............\n",
            "[CV]  n_estimators=900, max_depth=13, criterion=entropy, score=0.567, total=   4.7s\n",
            "[CV] n_estimators=1400, max_depth=18, criterion=gini .................\n",
            "[CV]  n_estimators=1400, max_depth=18, criterion=gini, score=0.568, total=   8.2s\n",
            "[CV] n_estimators=1400, max_depth=18, criterion=gini .................\n",
            "[CV]  n_estimators=1400, max_depth=18, criterion=gini, score=0.580, total=   8.1s\n",
            "[CV] n_estimators=1400, max_depth=18, criterion=gini .................\n",
            "[CV]  n_estimators=1400, max_depth=18, criterion=gini, score=0.578, total=   8.1s\n",
            "[CV] n_estimators=1400, max_depth=18, criterion=gini .................\n",
            "[CV]  n_estimators=1400, max_depth=18, criterion=gini, score=0.577, total=   8.2s\n",
            "[CV] n_estimators=1400, max_depth=18, criterion=gini .................\n",
            "[CV]  n_estimators=1400, max_depth=18, criterion=gini, score=0.570, total=   8.3s\n",
            "[CV] n_estimators=100, max_depth=11, criterion=entropy ...............\n",
            "[CV]  n_estimators=100, max_depth=11, criterion=entropy, score=0.570, total=   0.6s\n",
            "[CV] n_estimators=100, max_depth=11, criterion=entropy ...............\n",
            "[CV]  n_estimators=100, max_depth=11, criterion=entropy, score=0.577, total=   0.6s\n",
            "[CV] n_estimators=100, max_depth=11, criterion=entropy ...............\n",
            "[CV]  n_estimators=100, max_depth=11, criterion=entropy, score=0.572, total=   0.6s\n",
            "[CV] n_estimators=100, max_depth=11, criterion=entropy ...............\n",
            "[CV]  n_estimators=100, max_depth=11, criterion=entropy, score=0.578, total=   0.6s\n",
            "[CV] n_estimators=100, max_depth=11, criterion=entropy ...............\n",
            "[CV]  n_estimators=100, max_depth=11, criterion=entropy, score=0.559, total=   0.6s\n",
            "[CV] n_estimators=400, max_depth=1, criterion=entropy ................\n",
            "[CV]  n_estimators=400, max_depth=1, criterion=entropy, score=0.541, total=   1.4s\n",
            "[CV] n_estimators=400, max_depth=1, criterion=entropy ................\n",
            "[CV]  n_estimators=400, max_depth=1, criterion=entropy, score=0.568, total=   1.4s\n",
            "[CV] n_estimators=400, max_depth=1, criterion=entropy ................\n",
            "[CV]  n_estimators=400, max_depth=1, criterion=entropy, score=0.561, total=   1.4s\n",
            "[CV] n_estimators=400, max_depth=1, criterion=entropy ................\n",
            "[CV]  n_estimators=400, max_depth=1, criterion=entropy, score=0.559, total=   1.3s\n",
            "[CV] n_estimators=400, max_depth=1, criterion=entropy ................\n",
            "[CV]  n_estimators=400, max_depth=1, criterion=entropy, score=0.547, total=   1.4s\n",
            "[CV] n_estimators=1300, max_depth=9, criterion=gini ..................\n",
            "[CV]  n_estimators=1300, max_depth=9, criterion=gini, score=0.571, total=   5.4s\n",
            "[CV] n_estimators=1300, max_depth=9, criterion=gini ..................\n",
            "[CV]  n_estimators=1300, max_depth=9, criterion=gini, score=0.582, total=   5.2s\n",
            "[CV] n_estimators=1300, max_depth=9, criterion=gini ..................\n",
            "[CV]  n_estimators=1300, max_depth=9, criterion=gini, score=0.578, total=   5.3s\n",
            "[CV] n_estimators=1300, max_depth=9, criterion=gini ..................\n",
            "[CV]  n_estimators=1300, max_depth=9, criterion=gini, score=0.576, total=   5.3s\n",
            "[CV] n_estimators=1300, max_depth=9, criterion=gini ..................\n",
            "[CV]  n_estimators=1300, max_depth=9, criterion=gini, score=0.568, total=   5.3s\n",
            "[CV] n_estimators=1200, max_depth=19, criterion=gini .................\n",
            "[CV]  n_estimators=1200, max_depth=19, criterion=gini, score=0.567, total=   7.3s\n",
            "[CV] n_estimators=1200, max_depth=19, criterion=gini .................\n",
            "[CV]  n_estimators=1200, max_depth=19, criterion=gini, score=0.580, total=   7.2s\n",
            "[CV] n_estimators=1200, max_depth=19, criterion=gini .................\n",
            "[CV]  n_estimators=1200, max_depth=19, criterion=gini, score=0.581, total=   7.3s\n",
            "[CV] n_estimators=1200, max_depth=19, criterion=gini .................\n",
            "[CV]  n_estimators=1200, max_depth=19, criterion=gini, score=0.578, total=   7.3s\n",
            "[CV] n_estimators=1200, max_depth=19, criterion=gini .................\n",
            "[CV]  n_estimators=1200, max_depth=19, criterion=gini, score=0.570, total=   7.3s\n",
            "[CV] n_estimators=700, max_depth=3, criterion=entropy ................\n",
            "[CV]  n_estimators=700, max_depth=3, criterion=entropy, score=0.554, total=   2.4s\n",
            "[CV] n_estimators=700, max_depth=3, criterion=entropy ................\n",
            "[CV]  n_estimators=700, max_depth=3, criterion=entropy, score=0.571, total=   2.4s\n",
            "[CV] n_estimators=700, max_depth=3, criterion=entropy ................\n",
            "[CV]  n_estimators=700, max_depth=3, criterion=entropy, score=0.567, total=   2.3s\n",
            "[CV] n_estimators=700, max_depth=3, criterion=entropy ................\n",
            "[CV]  n_estimators=700, max_depth=3, criterion=entropy, score=0.576, total=   2.3s\n",
            "[CV] n_estimators=700, max_depth=3, criterion=entropy ................\n",
            "[CV]  n_estimators=700, max_depth=3, criterion=entropy, score=0.556, total=   2.3s\n",
            "[CV] n_estimators=200, max_depth=13, criterion=entropy ...............\n",
            "[CV]  n_estimators=200, max_depth=13, criterion=entropy, score=0.569, total=   1.2s\n",
            "[CV] n_estimators=200, max_depth=13, criterion=entropy ...............\n",
            "[CV]  n_estimators=200, max_depth=13, criterion=entropy, score=0.582, total=   1.1s\n",
            "[CV] n_estimators=200, max_depth=13, criterion=entropy ...............\n",
            "[CV]  n_estimators=200, max_depth=13, criterion=entropy, score=0.574, total=   1.1s\n",
            "[CV] n_estimators=200, max_depth=13, criterion=entropy ...............\n",
            "[CV]  n_estimators=200, max_depth=13, criterion=entropy, score=0.579, total=   1.1s\n",
            "[CV] n_estimators=200, max_depth=13, criterion=entropy ...............\n",
            "[CV]  n_estimators=200, max_depth=13, criterion=entropy, score=0.559, total=   1.1s\n"
          ]
        },
        {
          "output_type": "stream",
          "name": "stderr",
          "text": [
            "[Parallel(n_jobs=1)]: Done  50 out of  50 | elapsed:  3.7min finished\n"
          ]
        },
        {
          "output_type": "stream",
          "name": "stdout",
          "text": [
            "0.5748 <bound method BaseEstimator.get_params of RandomForestClassifier(bootstrap=True, ccp_alpha=0.0, class_weight=None,\n",
            "                       criterion='gini', max_depth=9, max_features='auto',\n",
            "                       max_leaf_nodes=None, max_samples=None,\n",
            "                       min_impurity_decrease=0.0, min_impurity_split=None,\n",
            "                       min_samples_leaf=1, min_samples_split=2,\n",
            "                       min_weight_fraction_leaf=0.0, n_estimators=1300,\n",
            "                       n_jobs=-1, oob_score=False, random_state=42, verbose=0,\n",
            "                       warm_start=False)>\n"
          ]
        }
      ]
    },
    {
      "cell_type": "code",
      "metadata": {
        "id": "r4KG7NSU4BoR",
        "colab": {
          "base_uri": "https://localhost:8080/"
        },
        "outputId": "c913902b-e930-4634-debf-b4beb8f93e78"
      },
      "source": [
        "#baseline clf lr_clf = LogisticRegression(solver='lbfgs', random_state=42, max_iter=1000) - gives 56.866\n",
        "\n",
        "classifier = LogisticRegression(n_jobs=-1, random_state=RANDOM_SEED)\n",
        "param_grid = {\n",
        "    \"solver\": ['newton-cg', 'lbfgs', 'liblinear', 'sag', 'saga'],\n",
        "    \"C\":np.logspace(-3,3,20),\n",
        "    \"penalty\":[\"l1\",\"l2\",\"elasticnet\"],  \n",
        "    }\n",
        "\n",
        "model = model_selection.RandomizedSearchCV(\n",
        "    estimator = classifier,\n",
        "    #param_grid = param_grid, #for grid search\n",
        "    param_distributions = param_grid, # for randomizedsearchCV\n",
        "    n_iter=10, # iterations for randomized\n",
        "    scoring = 'accuracy',\n",
        "    verbose = 10,\n",
        "    n_jobs=1,\n",
        "    cv=5,\n",
        "    )\n",
        "\n",
        "model.fit(X,y)\n",
        "\n",
        "print (model.best_score_, model.best_estimator_.get_params) "
      ],
      "execution_count": null,
      "outputs": [
        {
          "output_type": "stream",
          "name": "stdout",
          "text": [
            "Fitting 5 folds for each of 10 candidates, totalling 50 fits\n",
            "[CV] solver=newton-cg, penalty=elasticnet, C=0.018329807108324356 ....\n",
            "[CV]  solver=newton-cg, penalty=elasticnet, C=0.018329807108324356, score=nan, total=   0.0s\n",
            "[CV] solver=newton-cg, penalty=elasticnet, C=0.018329807108324356 ....\n",
            "[CV]  solver=newton-cg, penalty=elasticnet, C=0.018329807108324356, score=nan, total=   0.0s\n",
            "[CV] solver=newton-cg, penalty=elasticnet, C=0.018329807108324356 ....\n",
            "[CV]  solver=newton-cg, penalty=elasticnet, C=0.018329807108324356, score=nan, total=   0.0s\n",
            "[CV] solver=newton-cg, penalty=elasticnet, C=0.018329807108324356 ....\n",
            "[CV]  solver=newton-cg, penalty=elasticnet, C=0.018329807108324356, score=nan, total=   0.0s\n",
            "[CV] solver=newton-cg, penalty=elasticnet, C=0.018329807108324356 ....\n",
            "[CV]  solver=newton-cg, penalty=elasticnet, C=0.018329807108324356, score=nan, total=   0.0s\n",
            "[CV] solver=liblinear, penalty=l2, C=0.07847599703514611 .............\n",
            "[CV]  solver=liblinear, penalty=l2, C=0.07847599703514611, score=0.561, total=   0.0s\n",
            "[CV] solver=liblinear, penalty=l2, C=0.07847599703514611 .............\n",
            "[CV]  solver=liblinear, penalty=l2, C=0.07847599703514611, score=0.587, total=   0.0s\n",
            "[CV] solver=liblinear, penalty=l2, C=0.07847599703514611 .............\n",
            "[CV]  solver=liblinear, penalty=l2, C=0.07847599703514611, score=0.574, total=   0.0s\n",
            "[CV] solver=liblinear, penalty=l2, C=0.07847599703514611 .............\n",
            "[CV]  solver=liblinear, penalty=l2, C=0.07847599703514611, score=0.566, total=   0.0s\n",
            "[CV] solver=liblinear, penalty=l2, C=0.07847599703514611 .............\n",
            "[CV]  solver=liblinear, penalty=l2, C=0.07847599703514611, score=0.565, total=   0.0s\n",
            "[CV] solver=lbfgs, penalty=l1, C=0.008858667904100823 ................\n",
            "[CV]  solver=lbfgs, penalty=l1, C=0.008858667904100823, score=nan, total=   0.0s\n",
            "[CV] solver=lbfgs, penalty=l1, C=0.008858667904100823 ................\n",
            "[CV]  solver=lbfgs, penalty=l1, C=0.008858667904100823, score=nan, total=   0.0s\n",
            "[CV] solver=lbfgs, penalty=l1, C=0.008858667904100823 ................\n",
            "[CV]  solver=lbfgs, penalty=l1, C=0.008858667904100823, score=nan, total=   0.0s\n",
            "[CV] solver=lbfgs, penalty=l1, C=0.008858667904100823 ................\n",
            "[CV]  solver=lbfgs, penalty=l1, C=0.008858667904100823, score=nan, total=   0.0s\n",
            "[CV] solver=lbfgs, penalty=l1, C=0.008858667904100823 ................\n",
            "[CV]  solver=lbfgs, penalty=l1, C=0.008858667904100823, score=nan, total=   0.0s\n",
            "[CV] solver=saga, penalty=elasticnet, C=0.004281332398719396 .........\n",
            "[CV]  solver=saga, penalty=elasticnet, C=0.004281332398719396, score=nan, total=   0.0s\n",
            "[CV] solver=saga, penalty=elasticnet, C=0.004281332398719396 .........\n",
            "[CV]  solver=saga, penalty=elasticnet, C=0.004281332398719396, score=nan, total=   0.0s\n",
            "[CV] solver=saga, penalty=elasticnet, C=0.004281332398719396 .........\n",
            "[CV]  solver=saga, penalty=elasticnet, C=0.004281332398719396, score=nan, total=   0.0s\n",
            "[CV] solver=saga, penalty=elasticnet, C=0.004281332398719396 .........\n",
            "[CV]  solver=saga, penalty=elasticnet, C=0.004281332398719396, score=nan, total=   0.0s\n",
            "[CV] solver=saga, penalty=elasticnet, C=0.004281332398719396 .........\n",
            "[CV]  solver=saga, penalty=elasticnet, C=0.004281332398719396, score=nan, total=   0.0s\n",
            "[CV] solver=liblinear, penalty=elasticnet, C=0.008858667904100823 ....\n",
            "[CV]  solver=liblinear, penalty=elasticnet, C=0.008858667904100823, score=nan, total=   0.0s\n",
            "[CV] solver=liblinear, penalty=elasticnet, C=0.008858667904100823 ....\n",
            "[CV]  solver=liblinear, penalty=elasticnet, C=0.008858667904100823, score=nan, total=   0.0s\n",
            "[CV] solver=liblinear, penalty=elasticnet, C=0.008858667904100823 ....\n",
            "[CV]  solver=liblinear, penalty=elasticnet, C=0.008858667904100823, score=nan, total=   0.0s\n",
            "[CV] solver=liblinear, penalty=elasticnet, C=0.008858667904100823 ....\n",
            "[CV]  solver=liblinear, penalty=elasticnet, C=0.008858667904100823, score=nan, total=   0.0s\n",
            "[CV] solver=liblinear, penalty=elasticnet, C=0.008858667904100823 ....\n",
            "[CV]  solver=liblinear, penalty=elasticnet, C=0.008858667904100823, score=nan, total=   0.0s\n",
            "[CV] solver=sag, penalty=l1, C=12.742749857031322 ....................\n",
            "[CV]  solver=sag, penalty=l1, C=12.742749857031322, score=nan, total=   0.0s\n",
            "[CV] solver=sag, penalty=l1, C=12.742749857031322 ....................\n",
            "[CV]  solver=sag, penalty=l1, C=12.742749857031322, score=nan, total=   0.0s\n",
            "[CV] solver=sag, penalty=l1, C=12.742749857031322 ....................\n",
            "[CV]  solver=sag, penalty=l1, C=12.742749857031322, score=nan, total=   0.0s\n",
            "[CV] solver=sag, penalty=l1, C=12.742749857031322 ....................\n",
            "[CV]  solver=sag, penalty=l1, C=12.742749857031322, score=nan, total=   0.0s\n",
            "[CV] solver=sag, penalty=l1, C=12.742749857031322 ....................\n",
            "[CV]  solver=sag, penalty=l1, C=12.742749857031322, score=nan, total=   0.0s\n",
            "[CV] solver=newton-cg, penalty=l1, C=0.6951927961775606 ..............\n",
            "[CV]  solver=newton-cg, penalty=l1, C=0.6951927961775606, score=nan, total=   0.0s\n",
            "[CV] solver=newton-cg, penalty=l1, C=0.6951927961775606 ..............\n",
            "[CV]  solver=newton-cg, penalty=l1, C=0.6951927961775606, score=nan, total=   0.0s\n",
            "[CV] solver=newton-cg, penalty=l1, C=0.6951927961775606 ..............\n",
            "[CV]  solver=newton-cg, penalty=l1, C=0.6951927961775606, score=nan, total=   0.0s\n",
            "[CV] solver=newton-cg, penalty=l1, C=0.6951927961775606 ..............\n",
            "[CV]  solver=newton-cg, penalty=l1, C=0.6951927961775606, score=nan, total=   0.0s\n",
            "[CV] solver=newton-cg, penalty=l1, C=0.6951927961775606 ..............\n",
            "[CV]  solver=newton-cg, penalty=l1, C=0.6951927961775606, score=nan, total=   0.0s\n",
            "[CV] solver=saga, penalty=elasticnet, C=112.88378916846884 ...........\n",
            "[CV]  solver=saga, penalty=elasticnet, C=112.88378916846884, score=nan, total=   0.0s\n",
            "[CV] solver=saga, penalty=elasticnet, C=112.88378916846884 ...........\n"
          ]
        },
        {
          "output_type": "stream",
          "name": "stderr",
          "text": [
            "[Parallel(n_jobs=1)]: Using backend SequentialBackend with 1 concurrent workers.\n",
            "/usr/local/lib/python3.7/dist-packages/sklearn/model_selection/_validation.py:536: FitFailedWarning: Estimator fit failed. The score on this train-test partition for these parameters will be set to nan. Details: \n",
            "ValueError: Solver newton-cg supports only 'l2' or 'none' penalties, got elasticnet penalty.\n",
            "\n",
            "  FitFailedWarning)\n",
            "[Parallel(n_jobs=1)]: Done   1 out of   1 | elapsed:    0.0s remaining:    0.0s\n",
            "[Parallel(n_jobs=1)]: Done   2 out of   2 | elapsed:    0.0s remaining:    0.0s\n",
            "[Parallel(n_jobs=1)]: Done   3 out of   3 | elapsed:    0.0s remaining:    0.0s\n",
            "[Parallel(n_jobs=1)]: Done   4 out of   4 | elapsed:    0.0s remaining:    0.0s\n",
            "[Parallel(n_jobs=1)]: Done   5 out of   5 | elapsed:    0.0s remaining:    0.0s\n",
            "/usr/local/lib/python3.7/dist-packages/sklearn/linear_model/_logistic.py:1539: UserWarning: 'n_jobs' > 1 does not have any effect when 'solver' is set to 'liblinear'. Got 'n_jobs' = 2.\n",
            "  \" = {}.\".format(effective_n_jobs(self.n_jobs)))\n",
            "[Parallel(n_jobs=1)]: Done   6 out of   6 | elapsed:    0.0s remaining:    0.0s\n",
            "[Parallel(n_jobs=1)]: Done   7 out of   7 | elapsed:    0.1s remaining:    0.0s\n",
            "[Parallel(n_jobs=1)]: Done   8 out of   8 | elapsed:    0.1s remaining:    0.0s\n",
            "[Parallel(n_jobs=1)]: Done   9 out of   9 | elapsed:    0.1s remaining:    0.0s\n",
            "/usr/local/lib/python3.7/dist-packages/sklearn/model_selection/_validation.py:536: FitFailedWarning: Estimator fit failed. The score on this train-test partition for these parameters will be set to nan. Details: \n",
            "ValueError: Solver lbfgs supports only 'l2' or 'none' penalties, got l1 penalty.\n",
            "\n",
            "  FitFailedWarning)\n",
            "/usr/local/lib/python3.7/dist-packages/sklearn/model_selection/_validation.py:536: FitFailedWarning: Estimator fit failed. The score on this train-test partition for these parameters will be set to nan. Details: \n",
            "ValueError: l1_ratio must be between 0 and 1; got (l1_ratio=None)\n",
            "\n",
            "  FitFailedWarning)\n",
            "/usr/local/lib/python3.7/dist-packages/sklearn/model_selection/_validation.py:536: FitFailedWarning: Estimator fit failed. The score on this train-test partition for these parameters will be set to nan. Details: \n",
            "ValueError: Only 'saga' solver supports elasticnet penalty, got solver=liblinear.\n",
            "\n",
            "  FitFailedWarning)\n",
            "/usr/local/lib/python3.7/dist-packages/sklearn/model_selection/_validation.py:536: FitFailedWarning: Estimator fit failed. The score on this train-test partition for these parameters will be set to nan. Details: \n",
            "ValueError: Solver sag supports only 'l2' or 'none' penalties, got l1 penalty.\n",
            "\n",
            "  FitFailedWarning)\n",
            "/usr/local/lib/python3.7/dist-packages/sklearn/model_selection/_validation.py:536: FitFailedWarning: Estimator fit failed. The score on this train-test partition for these parameters will be set to nan. Details: \n",
            "ValueError: Solver newton-cg supports only 'l2' or 'none' penalties, got l1 penalty.\n",
            "\n",
            "  FitFailedWarning)\n"
          ]
        },
        {
          "output_type": "stream",
          "name": "stdout",
          "text": [
            "[CV]  solver=saga, penalty=elasticnet, C=112.88378916846884, score=nan, total=   0.0s\n",
            "[CV] solver=saga, penalty=elasticnet, C=112.88378916846884 ...........\n",
            "[CV]  solver=saga, penalty=elasticnet, C=112.88378916846884, score=nan, total=   0.0s\n",
            "[CV] solver=saga, penalty=elasticnet, C=112.88378916846884 ...........\n",
            "[CV]  solver=saga, penalty=elasticnet, C=112.88378916846884, score=nan, total=   0.0s\n",
            "[CV] solver=saga, penalty=elasticnet, C=112.88378916846884 ...........\n",
            "[CV]  solver=saga, penalty=elasticnet, C=112.88378916846884, score=nan, total=   0.0s\n",
            "[CV] solver=liblinear, penalty=l2, C=54.555947811685144 ..............\n",
            "[CV]  solver=liblinear, penalty=l2, C=54.555947811685144, score=0.563, total=   0.0s\n",
            "[CV] solver=liblinear, penalty=l2, C=54.555947811685144 ..............\n",
            "[CV]  solver=liblinear, penalty=l2, C=54.555947811685144, score=0.586, total=   0.0s\n",
            "[CV] solver=liblinear, penalty=l2, C=54.555947811685144 ..............\n",
            "[CV]  solver=liblinear, penalty=l2, C=54.555947811685144, score=0.576, total=   0.0s\n",
            "[CV] solver=liblinear, penalty=l2, C=54.555947811685144 ..............\n",
            "[CV]  solver=liblinear, penalty=l2, C=54.555947811685144, score=0.568, total=   0.0s\n",
            "[CV] solver=liblinear, penalty=l2, C=54.555947811685144 ..............\n",
            "[CV]  solver=liblinear, penalty=l2, C=54.555947811685144, score=0.566, total=   0.0s\n",
            "[CV] solver=sag, penalty=l1, C=54.555947811685144 ....................\n",
            "[CV]  solver=sag, penalty=l1, C=54.555947811685144, score=nan, total=   0.0s\n",
            "[CV] solver=sag, penalty=l1, C=54.555947811685144 ....................\n",
            "[CV]  solver=sag, penalty=l1, C=54.555947811685144, score=nan, total=   0.0s\n",
            "[CV] solver=sag, penalty=l1, C=54.555947811685144 ....................\n",
            "[CV]  solver=sag, penalty=l1, C=54.555947811685144, score=nan, total=   0.0s\n",
            "[CV] solver=sag, penalty=l1, C=54.555947811685144 ....................\n",
            "[CV]  solver=sag, penalty=l1, C=54.555947811685144, score=nan, total=   0.0s\n",
            "[CV] solver=sag, penalty=l1, C=54.555947811685144 ....................\n",
            "[CV]  solver=sag, penalty=l1, C=54.555947811685144, score=nan, total=   0.0s\n",
            "0.5717 <bound method BaseEstimator.get_params of LogisticRegression(C=54.555947811685144, class_weight=None, dual=False,\n",
            "                   fit_intercept=True, intercept_scaling=1, l1_ratio=None,\n",
            "                   max_iter=100, multi_class='auto', n_jobs=-1, penalty='l2',\n",
            "                   random_state=42, solver='liblinear', tol=0.0001, verbose=0,\n",
            "                   warm_start=False)>\n"
          ]
        },
        {
          "output_type": "stream",
          "name": "stderr",
          "text": [
            "[Parallel(n_jobs=1)]: Done  50 out of  50 | elapsed:    0.3s finished\n"
          ]
        }
      ]
    },
    {
      "cell_type": "code",
      "metadata": {
        "id": "l9WiQrBOJYFp"
      },
      "source": [
        ""
      ],
      "execution_count": null,
      "outputs": []
    }
  ]
}
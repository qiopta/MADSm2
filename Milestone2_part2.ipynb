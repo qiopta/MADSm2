{
  "nbformat": 4,
  "nbformat_minor": 0,
  "metadata": {
    "colab": {
      "name": "Milestone_II.ipynb",
      "provenance": [],
      "collapsed_sections": []
    },
    "kernelspec": {
      "name": "python3",
      "display_name": "Python 3"
    },
    "language_info": {
      "name": "python"
    }
  },
  "cells": [
    {
      "cell_type": "code",
      "metadata": {
        "colab": {
          "base_uri": "https://localhost:8080/"
        },
        "id": "bjYT09Gw96ad",
        "outputId": "4cbb2718-9d17-40f8-c196-5da96add78b0"
      },
      "source": [
        "import pandas as pd\n",
        "import numpy as np\n",
        "import zipfile\n",
        "from tqdm import tqdm\n",
        "import nltk\n",
        "nltk.download('wordnet')\n",
        "from nltk.stem import WordNetLemmatizer\n",
        "lemma = WordNetLemmatizer()\n",
        "from sklearn.feature_extraction.text import TfidfVectorizer\n",
        "from sklearn.dummy import DummyClassifier\n",
        "from sklearn.linear_model import LogisticRegression\n",
        "from sklearn.ensemble import RandomForestClassifier\n",
        "from sklearn import svm\n",
        "from sklearn.svm import SVC \n",
        "from sklearn.model_selection import cross_val_score\n",
        "from sklearn.model_selection import LeaveOneOut\n",
        "from sklearn.model_selection import ShuffleSplit\n",
        "from sklearn.cluster import KMeans\n",
        "from sklearn import metrics\n",
        "from scipy.stats import entropy\n",
        "from sklearn.cluster import AgglomerativeClustering\n",
        "from scipy.cluster.hierarchy import ward, dendrogram\n",
        "import matplotlib.pyplot as plt\n",
        "from scipy.cluster.hierarchy import fcluster\n",
        "from scipy.sparse import csr_matrix\n",
        "\n",
        "RANDOM_SEED = 42"
      ],
      "execution_count": 7,
      "outputs": [
        {
          "output_type": "stream",
          "name": "stdout",
          "text": [
            "[nltk_data] Downloading package wordnet to /root/nltk_data...\n",
            "[nltk_data]   Package wordnet is already up-to-date!\n"
          ]
        }
      ]
    },
    {
      "cell_type": "code",
      "metadata": {
        "colab": {
          "resources": {
            "http://localhost:8080/nbextensions/google.colab/files.js": {
              "data": "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",
              "ok": true,
              "headers": [
                [
                  "content-type",
                  "application/javascript"
                ]
              ],
              "status": 200,
              "status_text": ""
            }
          },
          "base_uri": "https://localhost:8080/",
          "height": 90
        },
        "id": "KbJoWxdJldAU",
        "outputId": "64ecf106-51ed-4fc1-c6a6-9699912861d5"
      },
      "source": [
        "!pip install -q kaggle\n",
        "from google.colab import files\n",
        "files.upload()"
      ],
      "execution_count": 2,
      "outputs": [
        {
          "output_type": "display_data",
          "data": {
            "text/html": [
              "\n",
              "     <input type=\"file\" id=\"files-ac4e8009-b9c8-41a1-a84d-f681eeffdb45\" name=\"files[]\" multiple disabled\n",
              "        style=\"border:none\" />\n",
              "     <output id=\"result-ac4e8009-b9c8-41a1-a84d-f681eeffdb45\">\n",
              "      Upload widget is only available when the cell has been executed in the\n",
              "      current browser session. Please rerun this cell to enable.\n",
              "      </output>\n",
              "      <script src=\"/nbextensions/google.colab/files.js\"></script> "
            ],
            "text/plain": [
              "<IPython.core.display.HTML object>"
            ]
          },
          "metadata": {}
        },
        {
          "output_type": "stream",
          "name": "stdout",
          "text": [
            "Saving kaggle.json to kaggle.json\n"
          ]
        },
        {
          "output_type": "execute_result",
          "data": {
            "text/plain": [
              "{'kaggle.json': b'{\"username\":\"chrisdallago\",\"key\":\"47505734214414419614bf9292bbbfbf\"}'}"
            ]
          },
          "metadata": {},
          "execution_count": 2
        }
      ]
    },
    {
      "cell_type": "code",
      "metadata": {
        "id": "dhC90hFglgQ9"
      },
      "source": [
        "! mkdir ~/.kaggle\n",
        "! cp kaggle.json ~/.kaggle/\n",
        "! chmod 600 ~/.kaggle/kaggle.json"
      ],
      "execution_count": 3,
      "outputs": []
    },
    {
      "cell_type": "code",
      "metadata": {
        "colab": {
          "base_uri": "https://localhost:8080/"
        },
        "id": "dT1rTc5Sl0gb",
        "outputId": "673380ab-5114-4fe9-c079-bb30b51945ce"
      },
      "source": [
        "!kaggle competitions download -c umich-siads-695-predicting-text-difficulty"
      ],
      "execution_count": 4,
      "outputs": [
        {
          "output_type": "stream",
          "name": "stdout",
          "text": [
            "Warning: Looks like you're using an outdated API Version, please consider updating (server 1.5.12 / client 1.5.4)\n",
            "Downloading additional_resource_file_readme.txt to /content\n",
            "  0% 0.00/2.83k [00:00<?, ?B/s]\n",
            "100% 2.83k/2.83k [00:00<00:00, 2.42MB/s]\n",
            "Downloading WikiLarge_Test.csv.zip to /content\n",
            "  0% 0.00/4.73M [00:00<?, ?B/s]\n",
            "100% 4.73M/4.73M [00:00<00:00, 43.5MB/s]\n",
            "Downloading dale_chall.txt to /content\n",
            "  0% 0.00/18.3k [00:00<?, ?B/s]\n",
            "100% 18.3k/18.3k [00:00<00:00, 19.0MB/s]\n",
            "Downloading Concreteness_ratings_Brysbaert_et_al_BRM.txt.zip to /content\n",
            "  0% 0.00/410k [00:00<?, ?B/s]\n",
            "100% 410k/410k [00:00<00:00, 128MB/s]\n",
            "Downloading AoA_51715_words.csv.zip to /content\n",
            "  0% 0.00/834k [00:00<?, ?B/s]\n",
            "100% 834k/834k [00:00<00:00, 118MB/s]\n",
            "Downloading WikiLarge_Train.csv.zip to /content\n",
            " 84% 17.0M/20.3M [00:00<00:00, 61.6MB/s]\n",
            "100% 20.3M/20.3M [00:00<00:00, 80.6MB/s]\n",
            "Downloading sampleSubmission.csv.zip to /content\n",
            "  0% 0.00/278k [00:00<?, ?B/s]\n",
            "100% 278k/278k [00:00<00:00, 81.4MB/s]\n"
          ]
        }
      ]
    },
    {
      "cell_type": "code",
      "metadata": {
        "colab": {
          "base_uri": "https://localhost:8080/"
        },
        "id": "NinI8XwCl0jA",
        "outputId": "8be8c9d2-6f02-4721-85ce-101a45ebcf69"
      },
      "source": [
        "!ls"
      ],
      "execution_count": 5,
      "outputs": [
        {
          "output_type": "stream",
          "name": "stdout",
          "text": [
            "additional_resource_file_readme.txt\t\t  sample_data\n",
            "AoA_51715_words.csv.zip\t\t\t\t  sampleSubmission.csv.zip\n",
            "Concreteness_ratings_Brysbaert_et_al_BRM.txt.zip  WikiLarge_Test.csv.zip\n",
            "dale_chall.txt\t\t\t\t\t  WikiLarge_Train.csv.zip\n",
            "kaggle.json\n"
          ]
        }
      ]
    },
    {
      "cell_type": "code",
      "metadata": {
        "id": "ffTsMza5l0lX"
      },
      "source": [
        "zf = zipfile.ZipFile('/content/WikiLarge_Train.csv.zip') \n",
        "train_df = pd.read_csv(zf.open('WikiLarge_Train.csv'))"
      ],
      "execution_count": 8,
      "outputs": []
    },
    {
      "cell_type": "code",
      "metadata": {
        "id": "Apo-e9Ndl8Ib"
      },
      "source": [
        "zf = zipfile.ZipFile('/content/WikiLarge_Test.csv.zip') \n",
        "test_df = pd.read_csv(zf.open('WikiLarge_Test.csv'))"
      ],
      "execution_count": 9,
      "outputs": []
    },
    {
      "cell_type": "code",
      "metadata": {
        "id": "96UwUZxZl8K2"
      },
      "source": [
        "tenK_train = train_df.sample(10000)\n",
        "onehK_train = train_df.sample(100000)\n",
        "twohK_train = train_df.sample(200000)"
      ],
      "execution_count": 11,
      "outputs": []
    },
    {
      "cell_type": "markdown",
      "metadata": {
        "id": "5TRq9OhMqYtP"
      },
      "source": [
        "Vectorizer"
      ]
    },
    {
      "cell_type": "code",
      "metadata": {
        "id": "CydkrZ5YkZuX"
      },
      "source": [
        "# Vectorize the text data\n",
        "# Defaults tested with min_df=100, later reduced to 25, and ngrams stayed at (1,2)\n",
        "vectorizer = TfidfVectorizer(min_df = 100, stop_words ='english', ngram_range = (1, 2)) \n",
        "X_train    = vectorizer.fit_transform(tenK_train['original_text'])\n",
        "vec_test   = vectorizer.transform(test_df['original_text']) \n",
        "# Get shuffle split params set up\n",
        "shuff_spt = ShuffleSplit(test_size=0.5, train_size=0.5, n_splits=10)"
      ],
      "execution_count": 12,
      "outputs": []
    },
    {
      "cell_type": "markdown",
      "metadata": {
        "id": "feM0iOncqbpx"
      },
      "source": [
        "Dummy CLF"
      ]
    },
    {
      "cell_type": "code",
      "metadata": {
        "colab": {
          "base_uri": "https://localhost:8080/"
        },
        "id": "KMGn3jZ-kZw9",
        "outputId": "38c346e1-8f9b-4a09-c91b-bed0a95c30c4"
      },
      "source": [
        "# Train the random, uniform dummy clasifier\n",
        "random_clf = DummyClassifier(strategy=\"uniform\", random_state=RANDOM_SEED)\n",
        "scores = cross_val_score(random_clf, train_df.original_text, train_df.label, cv=5)\n",
        "scores.mean()"
      ],
      "execution_count": 13,
      "outputs": [
        {
          "output_type": "execute_result",
          "data": {
            "text/plain": [
              "0.5006958307739798"
            ]
          },
          "metadata": {},
          "execution_count": 13
        }
      ]
    },
    {
      "cell_type": "code",
      "metadata": {
        "colab": {
          "base_uri": "https://localhost:8080/"
        },
        "id": "XC5JQW5ykZz_",
        "outputId": "606298b2-bc0e-4499-c813-568fecc8dc51"
      },
      "source": [
        "#comparison with stratified, shuffle and loo cv\n",
        "loo = LeaveOneOut()\n",
        "shuff_spt = ShuffleSplit(test_size=0.5, train_size=0.5, n_splits=10)\n",
        "scores = cross_val_score(random_clf, train_df.original_text, train_df.label, cv=shuff_spt)\n",
        "scores"
      ],
      "execution_count": 14,
      "outputs": [
        {
          "output_type": "execute_result",
          "data": {
            "text/plain": [
              "array([0.50065264, 0.49934256, 0.49934736, 0.50110373, 0.5004031 ,\n",
              "       0.50109893, 0.49927538, 0.49910742, 0.50037431, 0.49978405])"
            ]
          },
          "metadata": {},
          "execution_count": 14
        }
      ]
    },
    {
      "cell_type": "code",
      "metadata": {
        "id": "zNBN6HXFkZ21"
      },
      "source": [
        "random_clf.fit(train_df.original_text, train_df.label)\n",
        "randclf_preds = random_clf.predict(test_df)"
      ],
      "execution_count": 8,
      "outputs": []
    },
    {
      "cell_type": "code",
      "metadata": {
        "id": "FBxUFgcxk7xm"
      },
      "source": [
        "# Add id's to preds, write to CSV\n",
        "randclf_pred_df = pd.DataFrame(data=randclf_preds).reset_index()\n",
        "randclf_pred_df.columns = ['id', 'label']\n",
        "randclf_pred_df.to_csv('randclf_preds.csv', index=False)"
      ],
      "execution_count": 9,
      "outputs": []
    },
    {
      "cell_type": "markdown",
      "metadata": {
        "id": "GeEH32yyqjdi"
      },
      "source": [
        "Random Forest CLF"
      ]
    },
    {
      "cell_type": "code",
      "metadata": {
        "id": "2TWXP01rkZ8D"
      },
      "source": [
        "# Train Random Forest Classifier with default parameters, with hyperparameter tuning, n_estimators=50 and max_depth=15 slightly increasing the accuracy on the 10000K sample\n",
        "rf_clf = RandomForestClassifier(random_state=RANDOM_SEED) "
      ],
      "execution_count": 19,
      "outputs": []
    },
    {
      "cell_type": "code",
      "metadata": {
        "colab": {
          "base_uri": "https://localhost:8080/"
        },
        "id": "trZmpsOjm088",
        "outputId": "fdafdb39-debe-4125-88b6-c042f7612c3f"
      },
      "source": [
        "scores = cross_val_score(rf_clf, X_train, tenK_train.label, cv=shuff_spt) \n",
        "scores.mean() "
      ],
      "execution_count": 20,
      "outputs": [
        {
          "output_type": "execute_result",
          "data": {
            "text/plain": [
              "0.56834"
            ]
          },
          "metadata": {},
          "execution_count": 20
        }
      ]
    },
    {
      "cell_type": "code",
      "metadata": {
        "id": "QGsHIPJbrbAd"
      },
      "source": [
        "# Add id's to preds, write to CSV\n",
        "rf_clf.fit(X_train, tenK_train.label)\n",
        "rf_preds = rf_clf.predict(vec_test)\n",
        "rf_clf_pred_df = pd.DataFrame(data = rf_preds).reset_index()\n",
        "rf_clf_pred_df.columns = ['id', 'label']\n",
        "rf_clf_pred_df.to_csv('rf_preds.csv', index=False)"
      ],
      "execution_count": 12,
      "outputs": []
    },
    {
      "cell_type": "markdown",
      "metadata": {
        "id": "HJb77DgNsvHA"
      },
      "source": [
        "SVM CLF"
      ]
    },
    {
      "cell_type": "code",
      "metadata": {
        "id": "RCLBPcpmrbC0"
      },
      "source": [
        "# Train svm SVC classifier with default parameters, eventually set kernel='linear'\n",
        "# Experimented with changing the C value to (0,0.01,0.1,0.5,1,2,5,10,50,100,500,1000) with the highest accuracy achieved at default C=1.0\n",
        "svm_clf = svm.SVC(random_state=RANDOM_SEED) "
      ],
      "execution_count": 47,
      "outputs": []
    },
    {
      "cell_type": "code",
      "metadata": {
        "colab": {
          "base_uri": "https://localhost:8080/"
        },
        "id": "vi0r0HjWrbFK",
        "outputId": "d661d886-0c17-449a-d39b-889e98861e26"
      },
      "source": [
        "scores = cross_val_score(svm_clf, X_train, tenK_train.label, cv=shuff_spt) \n",
        "scores.mean() "
      ],
      "execution_count": 48,
      "outputs": [
        {
          "output_type": "execute_result",
          "data": {
            "text/plain": [
              "0.5656800000000001"
            ]
          },
          "metadata": {},
          "execution_count": 48
        }
      ]
    },
    {
      "cell_type": "code",
      "metadata": {
        "colab": {
          "base_uri": "https://localhost:8080/"
        },
        "id": "l8eXVOS8rbHk",
        "outputId": "f1efcad9-1fe0-4b8a-b547-62c864c09965"
      },
      "source": [
        "# Add id's to preds, write to CSV\n",
        "svm_clf.fit(X_train, tenK_train.label)\n",
        "svm_preds = svm_clf.predict(vec_test)\n",
        "svm_clf_pred_df = pd.DataFrame(data = svm_preds).reset_index()\n",
        "svm_clf_pred_df.columns = ['id', 'label']\n",
        "svm_clf_pred_df.to_csv('svm_preds.csv', index=False)"
      ],
      "execution_count": 15,
      "outputs": [
        {
          "output_type": "stream",
          "name": "stdout",
          "text": [
            "CPU times: user 43.7 s, sys: 157 ms, total: 43.9 s\n",
            "Wall time: 43.7 s\n"
          ]
        }
      ]
    },
    {
      "cell_type": "code",
      "metadata": {
        "id": "MgkHIte1m1FK"
      },
      "source": [
        ""
      ],
      "execution_count": null,
      "outputs": []
    },
    {
      "cell_type": "markdown",
      "metadata": {
        "id": "ZqSWWvzuuVcU"
      },
      "source": [
        "Age Of Acquistion"
      ]
    },
    {
      "cell_type": "code",
      "metadata": {
        "id": "PlUVCEaXm1Hu"
      },
      "source": [
        "# Separate dataset based on difficulty label\n",
        "train_simple_df = tenK_train[tenK_train['label'] == 0].reset_index(drop=True)\n",
        "train_difficult_df = tenK_train[tenK_train['label'] == 1].reset_index(drop=True)"
      ],
      "execution_count": 49,
      "outputs": []
    },
    {
      "cell_type": "code",
      "metadata": {
        "id": "94hpdUceU08M"
      },
      "source": [
        "zf = zipfile.ZipFile('/content/WikiLarge_Test.csv.zip') \n",
        "test_df = pd.read_csv(zf.open('WikiLarge_Test.csv'))"
      ],
      "execution_count": null,
      "outputs": []
    },
    {
      "cell_type": "code",
      "metadata": {
        "id": "aRR_PVl6m1Kq"
      },
      "source": [
        "# Begin experimenting with AoA csv\n",
        "zf = zipfile.ZipFile('/content/AoA_51715_words.csv.zip') \n",
        "aoa_list = pd.read_csv(zf.open('AoA_51715_words.csv'))#, encoding='unicode_escape')\n",
        "aoa_update = aoa_list[['Word', 'Lemma_highest_PoS', 'AoA_Kup_lem']]"
      ],
      "execution_count": 60,
      "outputs": []
    },
    {
      "cell_type": "code",
      "metadata": {
        "id": "UqUDOXCjm1NI"
      },
      "source": [
        "# Compare averages of statistical metrics  \n",
        "def get_avg_stats(df):\n",
        "    aoa_mean = []\n",
        "    aoa_median = []\n",
        "    aoa_min = []\n",
        "    aoa_max = []\n",
        "    \n",
        "    for sent in df.original_text[:10000]:\n",
        "        sent = sent.lower().split(' ')\n",
        "        sent = list(set(sent))\n",
        "        l = []\n",
        "        nan = []\n",
        "        for i in sent:\n",
        "            i = lemma.lemmatize(i)\n",
        "            if i in list(aoa_update.Lemma_highest_PoS):\n",
        "                l.append(float(aoa_update[aoa_update.Word == i]['AoA_Kup_lem']))\n",
        "            else:\n",
        "                nan.append(np.nan)\n",
        "\n",
        "        if len(l) >= 1:\n",
        "            aoa_mean.append(np.mean(l))\n",
        "            aoa_median.append(np.median(l))\n",
        "            aoa_min.append(np.min(l))\n",
        "            aoa_max.append(np.max(l))\n",
        "            \n",
        "    return (np.mean(aoa_mean), np.mean(aoa_median), np.mean(aoa_min), np.mean(aoa_max))"
      ],
      "execution_count": 61,
      "outputs": []
    },
    {
      "cell_type": "code",
      "metadata": {
        "colab": {
          "base_uri": "https://localhost:8080/",
          "height": 304
        },
        "id": "PxdvWAhGm1Py",
        "outputId": "cd9c535e-44d9-4188-d795-41133db4e808"
      },
      "source": [
        "print('Simple: ', get_avg_stats(train_simple_df))\n",
        "print('Difficult: ', get_avg_stats(train_difficult_df))"
      ],
      "execution_count": 62,
      "outputs": [
        {
          "output_type": "error",
          "ename": "KeyboardInterrupt",
          "evalue": "ignored",
          "traceback": [
            "\u001b[0;31m---------------------------------------------------------------------------\u001b[0m",
            "\u001b[0;31mKeyboardInterrupt\u001b[0m                         Traceback (most recent call last)",
            "\u001b[0;32m<ipython-input-62-54150dfdfb64>\u001b[0m in \u001b[0;36m<module>\u001b[0;34m()\u001b[0m\n\u001b[0;32m----> 1\u001b[0;31m \u001b[0mprint\u001b[0m\u001b[0;34m(\u001b[0m\u001b[0;34m'Simple: '\u001b[0m\u001b[0;34m,\u001b[0m \u001b[0mget_avg_stats\u001b[0m\u001b[0;34m(\u001b[0m\u001b[0mtrain_simple_df\u001b[0m\u001b[0;34m)\u001b[0m\u001b[0;34m)\u001b[0m\u001b[0;34m\u001b[0m\u001b[0;34m\u001b[0m\u001b[0m\n\u001b[0m\u001b[1;32m      2\u001b[0m \u001b[0mprint\u001b[0m\u001b[0;34m(\u001b[0m\u001b[0;34m'Difficult: '\u001b[0m\u001b[0;34m,\u001b[0m \u001b[0mget_avg_stats\u001b[0m\u001b[0;34m(\u001b[0m\u001b[0mtrain_difficult_df\u001b[0m\u001b[0;34m)\u001b[0m\u001b[0;34m)\u001b[0m\u001b[0;34m\u001b[0m\u001b[0;34m\u001b[0m\u001b[0m\n",
            "\u001b[0;32m<ipython-input-61-c5af4992260d>\u001b[0m in \u001b[0;36mget_avg_stats\u001b[0;34m(df)\u001b[0m\n\u001b[1;32m     13\u001b[0m         \u001b[0;32mfor\u001b[0m \u001b[0mi\u001b[0m \u001b[0;32min\u001b[0m \u001b[0msent\u001b[0m\u001b[0;34m:\u001b[0m\u001b[0;34m\u001b[0m\u001b[0;34m\u001b[0m\u001b[0m\n\u001b[1;32m     14\u001b[0m             \u001b[0mi\u001b[0m \u001b[0;34m=\u001b[0m \u001b[0mlemma\u001b[0m\u001b[0;34m.\u001b[0m\u001b[0mlemmatize\u001b[0m\u001b[0;34m(\u001b[0m\u001b[0mi\u001b[0m\u001b[0;34m)\u001b[0m\u001b[0;34m\u001b[0m\u001b[0;34m\u001b[0m\u001b[0m\n\u001b[0;32m---> 15\u001b[0;31m             \u001b[0;32mif\u001b[0m \u001b[0mi\u001b[0m \u001b[0;32min\u001b[0m \u001b[0mlist\u001b[0m\u001b[0;34m(\u001b[0m\u001b[0maoa_update\u001b[0m\u001b[0;34m.\u001b[0m\u001b[0mLemma_highest_PoS\u001b[0m\u001b[0;34m)\u001b[0m\u001b[0;34m:\u001b[0m\u001b[0;34m\u001b[0m\u001b[0;34m\u001b[0m\u001b[0m\n\u001b[0m\u001b[1;32m     16\u001b[0m                 \u001b[0ml\u001b[0m\u001b[0;34m.\u001b[0m\u001b[0mappend\u001b[0m\u001b[0;34m(\u001b[0m\u001b[0mfloat\u001b[0m\u001b[0;34m(\u001b[0m\u001b[0maoa_update\u001b[0m\u001b[0;34m[\u001b[0m\u001b[0maoa_update\u001b[0m\u001b[0;34m.\u001b[0m\u001b[0mWord\u001b[0m \u001b[0;34m==\u001b[0m \u001b[0mi\u001b[0m\u001b[0;34m]\u001b[0m\u001b[0;34m[\u001b[0m\u001b[0;34m'AoA_Kup_lem'\u001b[0m\u001b[0;34m]\u001b[0m\u001b[0;34m)\u001b[0m\u001b[0;34m)\u001b[0m\u001b[0;34m\u001b[0m\u001b[0;34m\u001b[0m\u001b[0m\n\u001b[1;32m     17\u001b[0m             \u001b[0;32melse\u001b[0m\u001b[0;34m:\u001b[0m\u001b[0;34m\u001b[0m\u001b[0;34m\u001b[0m\u001b[0m\n",
            "\u001b[0;31mKeyboardInterrupt\u001b[0m: "
          ]
        }
      ]
    },
    {
      "cell_type": "code",
      "metadata": {
        "id": "9I8aJiAPm1Sm"
      },
      "source": [
        "# Create a new Pandas DataFrame to experiment with AoA stats\n",
        "def get_stats_df(X, y, sample_size):\n",
        "    \n",
        "    split_df = pd.DataFrame(X)\n",
        "    split_df['label'] = y\n",
        "    sample_df = split_df[:sample_size].copy()\n",
        "\n",
        "    aoa_mean = []\n",
        "    aoa_median = []\n",
        "    aoa_min = []\n",
        "    aoa_max = []\n",
        "\n",
        "    for sent in tqdm(sample_df.original_text):\n",
        "        sent = sent.lower().split(' ')\n",
        "        sent = list(set(sent))\n",
        "        l = []\n",
        "        nan = []\n",
        "        for i in sent:\n",
        "            i = lemma.lemmatize(i)\n",
        "            if i in list(aoa_update.Lemma_highest_PoS):\n",
        "                l.append(float(aoa_update[aoa_update.Word == i]['AoA_Kup_lem']))\n",
        "            else:\n",
        "                nan.append(np.nan)\n",
        "\n",
        "        if len(l) >= 1:\n",
        "            aoa_mean.append(np.mean(l))\n",
        "            aoa_median.append(np.median(l))\n",
        "            aoa_min.append(np.min(l))\n",
        "            aoa_max.append(np.max(l))\n",
        "            \n",
        "        else:\n",
        "            aoa_mean.append(np.nan)\n",
        "            aoa_median.append(np.nan)\n",
        "            aoa_min.append(np.nan)\n",
        "            aoa_max.append(np.nan)\n",
        "            \n",
        "    sample_df['mean_aoa'] = aoa_mean\n",
        "    sample_df['median_aoa'] = aoa_median\n",
        "    sample_df['min_aoa'] = aoa_min\n",
        "    sample_df['max_aoa'] = aoa_max\n",
        "    \n",
        "    return sample_df"
      ],
      "execution_count": 63,
      "outputs": []
    },
    {
      "cell_type": "code",
      "metadata": {
        "colab": {
          "base_uri": "https://localhost:8080/",
          "height": 339
        },
        "id": "EmaYdun5m1Xt",
        "outputId": "9dd019de-eff4-4833-de2e-fd7545f2a309"
      },
      "source": [
        "# Need to drop NaN values for this portion or they with cause the classifier training to result in error\n",
        "train_stats_df = get_stats_df(tenK_train.original_text, tenK_train.label, 10000)\n",
        "train_stats_df = train_stats_df.dropna()"
      ],
      "execution_count": 64,
      "outputs": [
        {
          "output_type": "stream",
          "name": "stderr",
          "text": [
            " 27%|██▋       | 2660/10000 [06:05<16:47,  7.28it/s]\n"
          ]
        },
        {
          "output_type": "error",
          "ename": "KeyboardInterrupt",
          "evalue": "ignored",
          "traceback": [
            "\u001b[0;31m---------------------------------------------------------------------------\u001b[0m",
            "\u001b[0;31mKeyboardInterrupt\u001b[0m                         Traceback (most recent call last)",
            "\u001b[0;32m<ipython-input-64-f3bc2609242f>\u001b[0m in \u001b[0;36m<module>\u001b[0;34m()\u001b[0m\n\u001b[1;32m      1\u001b[0m \u001b[0;31m# Need to drop NaN values for this portion or they with cause the classifier training to result in error\u001b[0m\u001b[0;34m\u001b[0m\u001b[0;34m\u001b[0m\u001b[0;34m\u001b[0m\u001b[0m\n\u001b[0;32m----> 2\u001b[0;31m \u001b[0mtrain_stats_df\u001b[0m \u001b[0;34m=\u001b[0m \u001b[0mget_stats_df\u001b[0m\u001b[0;34m(\u001b[0m\u001b[0mtenK_train\u001b[0m\u001b[0;34m.\u001b[0m\u001b[0moriginal_text\u001b[0m\u001b[0;34m,\u001b[0m \u001b[0mtenK_train\u001b[0m\u001b[0;34m.\u001b[0m\u001b[0mlabel\u001b[0m\u001b[0;34m,\u001b[0m \u001b[0;36m10000\u001b[0m\u001b[0;34m)\u001b[0m\u001b[0;34m\u001b[0m\u001b[0;34m\u001b[0m\u001b[0m\n\u001b[0m\u001b[1;32m      3\u001b[0m \u001b[0mtrain_stats_df\u001b[0m \u001b[0;34m=\u001b[0m \u001b[0mtrain_stats_df\u001b[0m\u001b[0;34m.\u001b[0m\u001b[0mdropna\u001b[0m\u001b[0;34m(\u001b[0m\u001b[0;34m)\u001b[0m\u001b[0;34m\u001b[0m\u001b[0;34m\u001b[0m\u001b[0m\n",
            "\u001b[0;32m<ipython-input-63-d0381a079930>\u001b[0m in \u001b[0;36mget_stats_df\u001b[0;34m(X, y, sample_size)\u001b[0m\n\u001b[1;32m     18\u001b[0m         \u001b[0;32mfor\u001b[0m \u001b[0mi\u001b[0m \u001b[0;32min\u001b[0m \u001b[0msent\u001b[0m\u001b[0;34m:\u001b[0m\u001b[0;34m\u001b[0m\u001b[0;34m\u001b[0m\u001b[0m\n\u001b[1;32m     19\u001b[0m             \u001b[0mi\u001b[0m \u001b[0;34m=\u001b[0m \u001b[0mlemma\u001b[0m\u001b[0;34m.\u001b[0m\u001b[0mlemmatize\u001b[0m\u001b[0;34m(\u001b[0m\u001b[0mi\u001b[0m\u001b[0;34m)\u001b[0m\u001b[0;34m\u001b[0m\u001b[0;34m\u001b[0m\u001b[0m\n\u001b[0;32m---> 20\u001b[0;31m             \u001b[0;32mif\u001b[0m \u001b[0mi\u001b[0m \u001b[0;32min\u001b[0m \u001b[0mlist\u001b[0m\u001b[0;34m(\u001b[0m\u001b[0maoa_update\u001b[0m\u001b[0;34m.\u001b[0m\u001b[0mLemma_highest_PoS\u001b[0m\u001b[0;34m)\u001b[0m\u001b[0;34m:\u001b[0m\u001b[0;34m\u001b[0m\u001b[0;34m\u001b[0m\u001b[0m\n\u001b[0m\u001b[1;32m     21\u001b[0m                 \u001b[0ml\u001b[0m\u001b[0;34m.\u001b[0m\u001b[0mappend\u001b[0m\u001b[0;34m(\u001b[0m\u001b[0mfloat\u001b[0m\u001b[0;34m(\u001b[0m\u001b[0maoa_update\u001b[0m\u001b[0;34m[\u001b[0m\u001b[0maoa_update\u001b[0m\u001b[0;34m.\u001b[0m\u001b[0mWord\u001b[0m \u001b[0;34m==\u001b[0m \u001b[0mi\u001b[0m\u001b[0;34m]\u001b[0m\u001b[0;34m[\u001b[0m\u001b[0;34m'AoA_Kup_lem'\u001b[0m\u001b[0;34m]\u001b[0m\u001b[0;34m)\u001b[0m\u001b[0;34m)\u001b[0m\u001b[0;34m\u001b[0m\u001b[0;34m\u001b[0m\u001b[0m\n\u001b[1;32m     22\u001b[0m             \u001b[0;32melse\u001b[0m\u001b[0;34m:\u001b[0m\u001b[0;34m\u001b[0m\u001b[0;34m\u001b[0m\u001b[0m\n",
            "\u001b[0;31mKeyboardInterrupt\u001b[0m: "
          ]
        }
      ]
    },
    {
      "cell_type": "code",
      "metadata": {
        "id": "KOyDDHq5m1aG"
      },
      "source": [
        "# Compare the accuracy of using only the AoA stats without vectorized text data\n",
        "train_stats_X = train_stats_df[['mean_aoa', 'median_aoa', 'min_aoa', 'max_aoa']]\n",
        "train_stats_y = np.array(train_stats_df['label'])"
      ],
      "execution_count": null,
      "outputs": []
    },
    {
      "cell_type": "code",
      "metadata": {
        "id": "6uk4zqGom1cq"
      },
      "source": [
        "# Cross val score actually higher when using AoA stats than with the vectorized text on 10000K sample\n",
        "lg_stats_clf = LogisticRegression(random_state=RANDOM_SEED)\n",
        "scores = cross_val_score(lg_stats_clf, train_stats_X, train_stats_y, cv=shuff_spt)\n",
        "scores.mean()"
      ],
      "execution_count": null,
      "outputs": []
    },
    {
      "cell_type": "markdown",
      "metadata": {
        "id": "sQ60STQl3ycW"
      },
      "source": [
        "Add in Vector Data\n"
      ]
    },
    {
      "cell_type": "code",
      "metadata": {
        "colab": {
          "base_uri": "https://localhost:8080/"
        },
        "id": "cX2IIZhGm1q7",
        "outputId": "ad4b91a9-d178-4c8d-c0d1-2ba5d6996a9e"
      },
      "source": [
        "# Experiment with combining vectorized text data with AoA stats to further improve accuracy\n",
        "train_vecs = []\n",
        "\n",
        "for i in tqdm(range(len(train_stats_df))):\n",
        "    train_vecs.append(np.array(pd.DataFrame.sparse.from_spmatrix(X_train).iloc[i].unique()))\n",
        "train_stats_df['vectorized_text'] = train_vecs\n",
        "\n",
        "train_vec_mean_pure = []\n",
        "train_vec_mean_slice = []\n",
        "\n",
        "for i in train_stats_df['vectorized_text']:\n",
        "    train_vec_mean_pure.append(np.mean(i))\n",
        "    if len(i) > 1:\n",
        "        train_vec_mean_slice.append(np.mean(i[1:]))\n",
        "    else:\n",
        "        train_vec_mean_slice.append(np.mean(i))\n",
        "\n",
        "# Create two separate vector average metrics, one including 0.0 one slicing it out\n",
        "train_stats_df['vec_mean_pure'] = train_vec_mean_pure\n",
        "train_stats_df['vec_mean_slice'] = train_vec_mean_slice"
      ],
      "execution_count": 192,
      "outputs": [
        {
          "output_type": "stream",
          "name": "stderr",
          "text": [
            "100%|██████████| 9779/9779 [00:30<00:00, 321.95it/s]\n"
          ]
        }
      ]
    },
    {
      "cell_type": "code",
      "metadata": {
        "id": "BnHRVYNNm1wo"
      },
      "source": [
        "# Combining both mean vector calculation slightly increases the accuracy of the model\n",
        "train_stats_X = train_stats_df[['mean_aoa', 'median_aoa', 'min_aoa', 'max_aoa','vec_mean_pure', 'vec_mean_slice']]\n",
        "train_stats_y = np.array(train_stats_df['label'])"
      ],
      "execution_count": 240,
      "outputs": []
    },
    {
      "cell_type": "code",
      "metadata": {
        "colab": {
          "base_uri": "https://localhost:8080/"
        },
        "id": "uBpY4OvUm1zs",
        "outputId": "f65df64c-20e9-4fb3-ecde-1ad9980beeb1"
      },
      "source": [
        "lg_stats_clf = LogisticRegression(random_state=RANDOM_SEED)\n",
        "scores = cross_val_score(lg_stats_clf, train_stats_X, train_stats_y, cv=shuff_spt)\n",
        "scores.mean()"
      ],
      "execution_count": 241,
      "outputs": [
        {
          "output_type": "execute_result",
          "data": {
            "text/plain": [
              "0.6056646216768916"
            ]
          },
          "metadata": {},
          "execution_count": 241
        }
      ]
    },
    {
      "cell_type": "markdown",
      "metadata": {
        "id": "WE1Iv6q8483j"
      },
      "source": [
        "Unsupervised Learning"
      ]
    },
    {
      "cell_type": "code",
      "metadata": {
        "id": "cU9PL18Cm149"
      },
      "source": [
        "# Initiate functions for unsupervised clustering\n",
        "def get_original_text_vectorized(df, top_n = -1, ngram_range = (1,2), max_features = 1000):\n",
        "    df = df.dropna()   \n",
        "    vectorizer = TfidfVectorizer(max_df=0.5, max_features=max_features,\n",
        "                                 min_df=2, stop_words='english',\n",
        "                                 ngram_range = ngram_range,\n",
        "                                 use_idf=True)\n",
        "    if (top_n >= 0):\n",
        "        text_instances = df.values[0:top_n]\n",
        "    else:\n",
        "        text_instances = df.values\n",
        "    \n",
        "    X = vectorizer.fit_transform(text_instances) \n",
        "    \n",
        "    return (X, vectorizer, text_instances)\n",
        "\n",
        "def print_cluster_features(vectorizer, centroids, n_clusters, top_n_features):\n",
        "    terms = vectorizer.get_feature_names()\n",
        "    for i in range(n_clusters):\n",
        "        print(\"Cluster %d:\" % i, end='')\n",
        "        for ind in centroids[i, :top_n_features]:\n",
        "            print(' [%s]' % terms[ind], end='')\n",
        "        print()\n",
        "        \n",
        "def kmeans_review(n_clusters, centroids, terms):\n",
        "    result = None\n",
        "    result = []\n",
        "    \n",
        "    for i in range(n_clusters):\n",
        "        term_list = list()\n",
        "        for ind in centroids[i, :10]:\n",
        "            term_list.append(terms[ind])\n",
        "        result.append(term_list)\n",
        "    \n",
        "    return result\n",
        "\n",
        "def compute_distinctive_term_score(T, T_a):   \n",
        "    IG = entropy(T) - entropy(T_a) \n",
        "    if (T_a[0] < T_a[1]):\n",
        "        score = -IG  \n",
        "    else:\n",
        "        score = IG\n",
        "    return score\n",
        "\n",
        "def one_vs_all_count_matrix(m, index):\n",
        "    row0 = m[index, :]\n",
        "    row1 = np.vstack((m[0:index, :], m[index+1:, :])).sum(axis=0)\n",
        "              \n",
        "    result = np.vstack((row0, row1))\n",
        "    return result"
      ],
      "execution_count": 195,
      "outputs": []
    },
    {
      "cell_type": "code",
      "metadata": {
        "id": "WpiHbcUrm174"
      },
      "source": [
        "# Compare scoring methods for ideal number of K clusters\n",
        "def get_cluster_number(df):\n",
        "    \n",
        "    (X, vectorizer, text_instances) = get_original_text_vectorized(df)\n",
        "\n",
        "    db_list = []\n",
        "    ch_list = []\n",
        "\n",
        "    for k in range(2,9):\n",
        "        kmeans = KMeans(n_clusters=k, init='k-means++', max_iter=100, n_init=1, random_state=RANDOM_SEED).fit(X)\n",
        "        labels = kmeans.labels_\n",
        "        db_list.append(metrics.davies_bouldin_score(X.toarray(), labels))\n",
        "        ch_list.append(metrics.calinski_harabasz_score(X.toarray(), labels))\n",
        "\n",
        "    return (('Davies Bouldin:', db_list.index(min(db_list))+2), ('Calinski Harabasz:', ch_list.index(max(ch_list))+2))"
      ],
      "execution_count": 196,
      "outputs": []
    },
    {
      "cell_type": "code",
      "metadata": {
        "colab": {
          "base_uri": "https://localhost:8080/"
        },
        "id": "CeMlOon_m1-5",
        "outputId": "1c03dad9-1b87-4c1e-b2c7-09678b87d28b"
      },
      "source": [
        "print('Simple:', get_cluster_number(train_simple_df['original_text']))\n",
        "print('Difficult:', get_cluster_number(train_difficult_df['original_text']))"
      ],
      "execution_count": 197,
      "outputs": [
        {
          "output_type": "stream",
          "name": "stdout",
          "text": [
            "Simple: (('Davies Bouldin:', 8), ('Calinski Harabasz:', 2))\n",
            "Difficult: (('Davies Bouldin:', 2), ('Calinski Harabasz:', 4))\n"
          ]
        }
      ]
    },
    {
      "cell_type": "markdown",
      "metadata": {
        "id": "GjmnRwYY5UyZ"
      },
      "source": [
        "Kmeans Clustering"
      ]
    },
    {
      "cell_type": "code",
      "metadata": {
        "id": "voLiFTUum2Bq"
      },
      "source": [
        "# Initiate functions to get simple and difficult clusters\n",
        "def get_simple_clusters():\n",
        "    (X, vectorizer, text_instances) = get_original_text_vectorized(train_simple_df['original_text'])\n",
        "    \n",
        "    n_clusters = get_cluster_number(train_simple_df['original_text'])[1][1]\n",
        "    top_n_features=10\n",
        "    kmeans = KMeans(n_clusters, init='k-means++', max_iter=100, n_init=1, random_state=RANDOM_SEED).fit(X)\n",
        "    labels = kmeans.labels_\n",
        "    centroids = np.argsort(-kmeans.cluster_centers_)\n",
        "    terms = vectorizer.get_feature_names()\n",
        "\n",
        "    #print_cluster_features(vectorizer, centroids, n_clusters=8, top_n_features=10)\n",
        "    #kmeans_review()\n",
        "    cluster_df_simple = pd.DataFrame(data=kmeans_review(n_clusters, centroids, terms)).T\n",
        "    cluster_df_simple.columns = ['Simple Cluster %d' % i for i in range(n_clusters)]\n",
        "    return cluster_df_simple\n",
        "\n",
        "\n",
        "def get_difficult_clusters():\n",
        "    (X, vectorizer, text_instances) = get_original_text_vectorized(train_difficult_df['original_text'])\n",
        "    \n",
        "    n_clusters = get_cluster_number(train_difficult_df['original_text'])[1][1]\n",
        "    top_n_features=10\n",
        "    kmeans = KMeans(n_clusters, init='k-means++', max_iter=100, n_init=1, random_state=RANDOM_SEED).fit(X)\n",
        "    labels = kmeans.labels_\n",
        "    centroids = np.argsort(-kmeans.cluster_centers_)\n",
        "    terms = vectorizer.get_feature_names()\n",
        "\n",
        "    #print_cluster_features(vectorizer, centroids, n_clusters=8, top_n_features=10)\n",
        "    #kmeans_review()\n",
        "    cluster_df_difficult = pd.DataFrame(data=kmeans_review(n_clusters, centroids, terms)).T\n",
        "    cluster_df_difficult.columns = ['Difficult Cluster %d' % i for i in range(n_clusters)]\n",
        "    return cluster_df_difficult\n"
      ],
      "execution_count": 198,
      "outputs": []
    },
    {
      "cell_type": "code",
      "metadata": {
        "colab": {
          "base_uri": "https://localhost:8080/",
          "height": 238
        },
        "id": "xGuv6rUbm2Ea",
        "outputId": "9851d1e0-6c6a-438c-e684-11e28ae63f70"
      },
      "source": [
        "cluster_df = get_simple_clusters().join(get_difficult_clusters())\n",
        "cluster_df.T"
      ],
      "execution_count": 199,
      "outputs": [
        {
          "output_type": "execute_result",
          "data": {
            "text/html": [
              "<div>\n",
              "<style scoped>\n",
              "    .dataframe tbody tr th:only-of-type {\n",
              "        vertical-align: middle;\n",
              "    }\n",
              "\n",
              "    .dataframe tbody tr th {\n",
              "        vertical-align: top;\n",
              "    }\n",
              "\n",
              "    .dataframe thead th {\n",
              "        text-align: right;\n",
              "    }\n",
              "</style>\n",
              "<table border=\"1\" class=\"dataframe\">\n",
              "  <thead>\n",
              "    <tr style=\"text-align: right;\">\n",
              "      <th></th>\n",
              "      <th>0</th>\n",
              "      <th>1</th>\n",
              "      <th>2</th>\n",
              "      <th>3</th>\n",
              "      <th>4</th>\n",
              "      <th>5</th>\n",
              "      <th>6</th>\n",
              "      <th>7</th>\n",
              "      <th>8</th>\n",
              "      <th>9</th>\n",
              "    </tr>\n",
              "  </thead>\n",
              "  <tbody>\n",
              "    <tr>\n",
              "      <th>Simple Cluster 0</th>\n",
              "      <td>rrb</td>\n",
              "      <td>lrb</td>\n",
              "      <td>born</td>\n",
              "      <td>lrb born</td>\n",
              "      <td>player</td>\n",
              "      <td>football player</td>\n",
              "      <td>football</td>\n",
              "      <td>lrb rrb</td>\n",
              "      <td>american</td>\n",
              "      <td>december</td>\n",
              "    </tr>\n",
              "    <tr>\n",
              "      <th>Simple Cluster 1</th>\n",
              "      <td>city</td>\n",
              "      <td>used</td>\n",
              "      <td>commune</td>\n",
              "      <td>called</td>\n",
              "      <td>united</td>\n",
              "      <td>people</td>\n",
              "      <td>states</td>\n",
              "      <td>france</td>\n",
              "      <td>region</td>\n",
              "      <td>united states</td>\n",
              "    </tr>\n",
              "    <tr>\n",
              "      <th>Difficult Cluster 0</th>\n",
              "      <td>commune</td>\n",
              "      <td>france</td>\n",
              "      <td>department</td>\n",
              "      <td>calais</td>\n",
              "      <td>pas calais</td>\n",
              "      <td>pas</td>\n",
              "      <td>region</td>\n",
              "      <td>northern france</td>\n",
              "      <td>northern</td>\n",
              "      <td>aisne</td>\n",
              "    </tr>\n",
              "    <tr>\n",
              "      <th>Difficult Cluster 1</th>\n",
              "      <td>water</td>\n",
              "      <td>rrb</td>\n",
              "      <td>lrb</td>\n",
              "      <td>used</td>\n",
              "      <td>small</td>\n",
              "      <td>surface</td>\n",
              "      <td>inside</td>\n",
              "      <td>moon</td>\n",
              "      <td>power</td>\n",
              "      <td>simply</td>\n",
              "    </tr>\n",
              "    <tr>\n",
              "      <th>Difficult Cluster 2</th>\n",
              "      <td>rrb</td>\n",
              "      <td>lrb</td>\n",
              "      <td>born</td>\n",
              "      <td>lrb born</td>\n",
              "      <td>lrb rrb</td>\n",
              "      <td>known</td>\n",
              "      <td>american</td>\n",
              "      <td>football</td>\n",
              "      <td>german</td>\n",
              "      <td>ndash</td>\n",
              "    </tr>\n",
              "    <tr>\n",
              "      <th>Difficult Cluster 3</th>\n",
              "      <td>city</td>\n",
              "      <td>county</td>\n",
              "      <td>united</td>\n",
              "      <td>states</td>\n",
              "      <td>world</td>\n",
              "      <td>used</td>\n",
              "      <td>known</td>\n",
              "      <td>united states</td>\n",
              "      <td>new</td>\n",
              "      <td>time</td>\n",
              "    </tr>\n",
              "  </tbody>\n",
              "</table>\n",
              "</div>"
            ],
            "text/plain": [
              "                           0       1  ...         8              9\n",
              "Simple Cluster 0         rrb     lrb  ...  american       december\n",
              "Simple Cluster 1        city    used  ...    region  united states\n",
              "Difficult Cluster 0  commune  france  ...  northern          aisne\n",
              "Difficult Cluster 1    water     rrb  ...     power         simply\n",
              "Difficult Cluster 2      rrb     lrb  ...    german          ndash\n",
              "Difficult Cluster 3     city  county  ...       new           time\n",
              "\n",
              "[6 rows x 10 columns]"
            ]
          },
          "metadata": {},
          "execution_count": 199
        }
      ]
    },
    {
      "cell_type": "markdown",
      "metadata": {
        "id": "HE9acBao5Z8D"
      },
      "source": [
        "Cluster Labeling"
      ]
    },
    {
      "cell_type": "code",
      "metadata": {
        "id": "s8Lr2YpZm2M0"
      },
      "source": [
        "# Initiate function to get cluster labels using information gain as a means of dimentionality reduction as feature selection criteria to find terms that are distinct to that cluster\n",
        "def cluster_labeling(n_clusters, L, terms):\n",
        "    result = None\n",
        "    \n",
        "    scores_list = []\n",
        "\n",
        "    for row in range(len(L)):\n",
        "        c = []\n",
        "        T_c = one_vs_all_count_matrix(L, row).sum(axis=1)\n",
        "        T_c = (T_c / sum(T_c))\n",
        "        for i in range(len(L[row])):\n",
        "            T_w = one_vs_all_count_matrix(L, row).T\n",
        "            T_w = (T_w[i] / sum(T_w[i]))\n",
        "            c.append(compute_distinctive_term_score(T_c, T_w))\n",
        "        scores_list.append(c)\n",
        "    \n",
        "    ind_list = list(np.argsort(-np.array(scores_list)))\n",
        "    \n",
        "    top_5 = []\n",
        "    for i in ind_list:\n",
        "        top_5.append(list(i[:5]))\n",
        "        \n",
        "    result = []\n",
        "    for i in range(len(top_5)):\n",
        "        term_list = list()\n",
        "        for ind in top_5[i]:\n",
        "            term_list.append(terms[ind])\n",
        "        result.append(term_list)\n",
        "        \n",
        "    return result\n",
        "\n",
        "\n",
        "def get_simple_cluster_labels():\n",
        "    (X, vectorizer, text_instances) = get_original_text_vectorized(train_simple_df['original_text'])\n",
        "    \n",
        "    n_clusters = get_cluster_number(train_simple_df['original_text'])[1][1]\n",
        "    kmeans = KMeans(n_clusters, init='k-means++', max_iter=100, n_init=1, random_state=RANDOM_SEED).fit(X)\n",
        "    labels = kmeans.labels_\n",
        "    L = kmeans.cluster_centers_\n",
        "    terms = vectorizer.get_feature_names()\n",
        "    \n",
        "    cluster_labeling_simple_df = pd.DataFrame(data=cluster_labeling(n_clusters, L, terms)).T\n",
        "    cluster_labeling_simple_df.columns = ['Simple Cluster %d' % i for i in range(n_clusters)]\n",
        "    \n",
        "    return cluster_labeling_simple_df\n",
        "\n",
        "def get_difficult_cluster_labels():\n",
        "    (X, vectorizer, text_instances) = get_original_text_vectorized(train_difficult_df['original_text'])\n",
        "    \n",
        "    n_clusters = get_cluster_number(train_difficult_df['original_text'])[1][1]\n",
        "    kmeans = KMeans(n_clusters, init='k-means++', max_iter=100, n_init=1, random_state=RANDOM_SEED).fit(X)\n",
        "    labels = kmeans.labels_\n",
        "    L = kmeans.cluster_centers_\n",
        "    terms = vectorizer.get_feature_names()\n",
        "    \n",
        "    cluster_labeling_difficult_df = pd.DataFrame(data=cluster_labeling(n_clusters, L, terms)).T\n",
        "    cluster_labeling_difficult_df.columns = ['Difficult Cluster %d' % i for i in range(n_clusters)]\n",
        "    \n",
        "    return cluster_labeling_difficult_df"
      ],
      "execution_count": 200,
      "outputs": []
    },
    {
      "cell_type": "code",
      "metadata": {
        "colab": {
          "base_uri": "https://localhost:8080/",
          "height": 241
        },
        "id": "NE0CDUCNm2Pn",
        "outputId": "4bb2b055-751f-4fda-dc39-00c1a888c6d4"
      },
      "source": [
        "cluster_labeling_df = get_simple_cluster_labels().join(get_difficult_cluster_labels())\n",
        "cluster_labeling_df"
      ],
      "execution_count": 201,
      "outputs": [
        {
          "output_type": "execute_result",
          "data": {
            "text/html": [
              "<div>\n",
              "<style scoped>\n",
              "    .dataframe tbody tr th:only-of-type {\n",
              "        vertical-align: middle;\n",
              "    }\n",
              "\n",
              "    .dataframe tbody tr th {\n",
              "        vertical-align: top;\n",
              "    }\n",
              "\n",
              "    .dataframe thead th {\n",
              "        text-align: right;\n",
              "    }\n",
              "</style>\n",
              "<table border=\"1\" class=\"dataframe\">\n",
              "  <thead>\n",
              "    <tr style=\"text-align: right;\">\n",
              "      <th></th>\n",
              "      <th>Simple Cluster 0</th>\n",
              "      <th>Simple Cluster 1</th>\n",
              "      <th>Difficult Cluster 0</th>\n",
              "      <th>Difficult Cluster 1</th>\n",
              "      <th>Difficult Cluster 2</th>\n",
              "      <th>Difficult Cluster 3</th>\n",
              "    </tr>\n",
              "  </thead>\n",
              "  <tbody>\n",
              "    <tr>\n",
              "      <th>0</th>\n",
              "      <td>rrb brazilian</td>\n",
              "      <td>performance</td>\n",
              "      <td>calais</td>\n",
              "      <td>water</td>\n",
              "      <td>rrb german</td>\n",
              "      <td>zone</td>\n",
              "    </tr>\n",
              "    <tr>\n",
              "      <th>1</th>\n",
              "      <td>rrb spanish</td>\n",
              "      <td>calais pas</td>\n",
              "      <td>pas</td>\n",
              "      <td>operated</td>\n",
              "      <td>rrb lrb</td>\n",
              "      <td>outside</td>\n",
              "    </tr>\n",
              "    <tr>\n",
              "      <th>2</th>\n",
              "      <td>lrb born</td>\n",
              "      <td>la loire</td>\n",
              "      <td>northern france</td>\n",
              "      <td>energy</td>\n",
              "      <td>rrb known</td>\n",
              "      <td>nintendo</td>\n",
              "    </tr>\n",
              "    <tr>\n",
              "      <th>3</th>\n",
              "      <td>lrb died</td>\n",
              "      <td>calvados department</td>\n",
              "      <td>calais region</td>\n",
              "      <td>does</td>\n",
              "      <td>rrb italian</td>\n",
              "      <td>iowa united</td>\n",
              "    </tr>\n",
              "    <tr>\n",
              "      <th>4</th>\n",
              "      <td>player plays</td>\n",
              "      <td>cancer</td>\n",
              "      <td>commune pas</td>\n",
              "      <td>inside</td>\n",
              "      <td>rrb english</td>\n",
              "      <td>iowa</td>\n",
              "    </tr>\n",
              "  </tbody>\n",
              "</table>\n",
              "</div>"
            ],
            "text/plain": [
              "  Simple Cluster 0     Simple Cluster 1  ... Difficult Cluster 2 Difficult Cluster 3\n",
              "0    rrb brazilian          performance  ...          rrb german                zone\n",
              "1      rrb spanish           calais pas  ...             rrb lrb             outside\n",
              "2         lrb born             la loire  ...           rrb known            nintendo\n",
              "3         lrb died  calvados department  ...         rrb italian         iowa united\n",
              "4     player plays               cancer  ...         rrb english                iowa\n",
              "\n",
              "[5 rows x 6 columns]"
            ]
          },
          "metadata": {},
          "execution_count": 201
        }
      ]
    },
    {
      "cell_type": "code",
      "metadata": {
        "id": "6HHr1HMyTaaP"
      },
      "source": [
        "# Attempt to reintroduce cluster label vectors into the supervised learning prediction task\n",
        "train_cluster1 = []\n",
        "train_cluster2 = []\n",
        "\n",
        "vec_cluster1 = []\n",
        "vec_cluster2 = []\n",
        "\n",
        "for i in train_stats_df.label:\n",
        "    if i == 0:\n",
        "        train_cluster1.append(list(cluster_labeling_df['Simple Cluster 0']))\n",
        "        vec_cluster1.append(np.mean(list(pd.DataFrame.sparse.from_spmatrix(vectorizer.fit_transform(cluster_labeling_df['Simple Cluster 0'])).iloc[i].unique())))\n",
        "        train_cluster2.append(list(cluster_labeling_df['Simple Cluster 1']))\n",
        "        vec_cluster2.append(np.mean(list(pd.DataFrame.sparse.from_spmatrix(vectorizer.fit_transform(cluster_labeling_df['Simple Cluster 1'])).iloc[i].unique())))\n",
        "\n",
        "    else:\n",
        "        train_cluster1.append(list(cluster_labeling_df['Difficult Cluster 0']))\n",
        "        vec_cluster1.append(np.mean(list(pd.DataFrame.sparse.from_spmatrix(vectorizer.fit_transform(cluster_labeling_df['Difficult Cluster 0'])).iloc[i].unique())))\n",
        "        train_cluster2.append(list(cluster_labeling_df['Difficult Cluster 1']))\n",
        "        vec_cluster2.append(np.mean(list(pd.DataFrame.sparse.from_spmatrix(vectorizer.fit_transform(cluster_labeling_df['Difficult Cluster 1'])).iloc[i].unique())))\n",
        "\n",
        "\n",
        "train_stats_df['cluster_1_label'] = train_cluster1\n",
        "train_stats_df['cluster_2_label'] = train_cluster2\n",
        "\n",
        "train_stats_df['cluster_label_vec_1'] = vec_cluster1\n",
        "train_stats_df['cluster_label_vec_2'] = vec_cluster2\n"
      ],
      "execution_count": 202,
      "outputs": []
    },
    {
      "cell_type": "code",
      "metadata": {
        "id": "HMTsEUDzTaiv"
      },
      "source": [
        "# Add mean cluster label vector into train stats for the classifier\n",
        "train_stats_X = train_stats_df[['mean_aoa', 'median_aoa', 'min_aoa', 'max_aoa',\n",
        "                                'vec_mean_pure', 'vec_mean_slice', \n",
        "                                'cluster_label_vec_1']]\n",
        "train_stats_y = np.array(train_stats_df['label'])"
      ],
      "execution_count": 225,
      "outputs": []
    },
    {
      "cell_type": "code",
      "metadata": {
        "colab": {
          "base_uri": "https://localhost:8080/"
        },
        "id": "m9qnfaVyZwHZ",
        "outputId": "a9e1a51c-c73f-49ea-a948-3001a0a8b33f"
      },
      "source": [
        "# Results in overinflated accuracy score\n",
        "lg_stats_clf = LogisticRegression(random_state=RANDOM_SEED)\n",
        "scores = cross_val_score(lg_stats_clf, train_stats_X, train_stats_y, cv=shuff_spt)\n",
        "scores.mean()"
      ],
      "execution_count": 227,
      "outputs": [
        {
          "output_type": "stream",
          "name": "stderr",
          "text": [
            "/usr/local/lib/python3.7/dist-packages/sklearn/linear_model/_logistic.py:940: ConvergenceWarning: lbfgs failed to converge (status=1):\n",
            "STOP: TOTAL NO. of ITERATIONS REACHED LIMIT.\n",
            "\n",
            "Increase the number of iterations (max_iter) or scale the data as shown in:\n",
            "    https://scikit-learn.org/stable/modules/preprocessing.html\n",
            "Please also refer to the documentation for alternative solver options:\n",
            "    https://scikit-learn.org/stable/modules/linear_model.html#logistic-regression\n",
            "  extra_warning_msg=_LOGISTIC_SOLVER_CONVERGENCE_MSG)\n"
          ]
        },
        {
          "output_type": "execute_result",
          "data": {
            "text/plain": [
              "0.9036809815950921"
            ]
          },
          "metadata": {},
          "execution_count": 227
        }
      ]
    },
    {
      "cell_type": "code",
      "metadata": {
        "id": "mXqE_6wPlNNF"
      },
      "source": [
        ""
      ],
      "execution_count": 224,
      "outputs": []
    }
  ]
}